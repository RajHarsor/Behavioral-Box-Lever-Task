{
 "cells": [
  {
   "cell_type": "code",
   "execution_count": 2,
   "metadata": {},
   "outputs": [],
   "source": [
    "import scipy.optimize as optimize\n",
    "from scipy.optimize import curve_fit\n",
    "import pandas as pd\n",
    "import numpy as np\n",
    "import matplotlib\n",
    "import matplotlib.pyplot as plt\n",
    "import seaborn as sns\n",
    "from numpy import arange\n",
    "from numpy import random"
   ]
  },
  {
   "cell_type": "code",
   "execution_count": 3,
   "metadata": {},
   "outputs": [
    {
     "data": {
      "text/html": [
       "<div>\n",
       "<style scoped>\n",
       "    .dataframe tbody tr th:only-of-type {\n",
       "        vertical-align: middle;\n",
       "    }\n",
       "\n",
       "    .dataframe tbody tr th {\n",
       "        vertical-align: top;\n",
       "    }\n",
       "\n",
       "    .dataframe thead th {\n",
       "        text-align: right;\n",
       "    }\n",
       "</style>\n",
       "<table border=\"1\" class=\"dataframe\">\n",
       "  <thead>\n",
       "    <tr style=\"text-align: right;\">\n",
       "      <th></th>\n",
       "      <th>Time</th>\n",
       "      <th>ul</th>\n",
       "    </tr>\n",
       "  </thead>\n",
       "  <tbody>\n",
       "    <tr>\n",
       "      <th>0</th>\n",
       "      <td>22</td>\n",
       "      <td>3</td>\n",
       "    </tr>\n",
       "    <tr>\n",
       "      <th>1</th>\n",
       "      <td>22</td>\n",
       "      <td>2</td>\n",
       "    </tr>\n",
       "    <tr>\n",
       "      <th>2</th>\n",
       "      <td>22</td>\n",
       "      <td>3</td>\n",
       "    </tr>\n",
       "    <tr>\n",
       "      <th>3</th>\n",
       "      <td>22</td>\n",
       "      <td>2</td>\n",
       "    </tr>\n",
       "    <tr>\n",
       "      <th>4</th>\n",
       "      <td>22</td>\n",
       "      <td>1</td>\n",
       "    </tr>\n",
       "    <tr>\n",
       "      <th>5</th>\n",
       "      <td>22</td>\n",
       "      <td>1</td>\n",
       "    </tr>\n",
       "    <tr>\n",
       "      <th>6</th>\n",
       "      <td>44</td>\n",
       "      <td>5</td>\n",
       "    </tr>\n",
       "    <tr>\n",
       "      <th>7</th>\n",
       "      <td>44</td>\n",
       "      <td>5</td>\n",
       "    </tr>\n",
       "    <tr>\n",
       "      <th>8</th>\n",
       "      <td>44</td>\n",
       "      <td>4</td>\n",
       "    </tr>\n",
       "    <tr>\n",
       "      <th>9</th>\n",
       "      <td>44</td>\n",
       "      <td>4</td>\n",
       "    </tr>\n",
       "    <tr>\n",
       "      <th>10</th>\n",
       "      <td>44</td>\n",
       "      <td>4</td>\n",
       "    </tr>\n",
       "    <tr>\n",
       "      <th>11</th>\n",
       "      <td>44</td>\n",
       "      <td>4</td>\n",
       "    </tr>\n",
       "    <tr>\n",
       "      <th>12</th>\n",
       "      <td>44</td>\n",
       "      <td>4</td>\n",
       "    </tr>\n",
       "    <tr>\n",
       "      <th>13</th>\n",
       "      <td>44</td>\n",
       "      <td>5</td>\n",
       "    </tr>\n",
       "    <tr>\n",
       "      <th>14</th>\n",
       "      <td>44</td>\n",
       "      <td>3</td>\n",
       "    </tr>\n",
       "    <tr>\n",
       "      <th>15</th>\n",
       "      <td>44</td>\n",
       "      <td>5</td>\n",
       "    </tr>\n",
       "    <tr>\n",
       "      <th>16</th>\n",
       "      <td>52</td>\n",
       "      <td>7</td>\n",
       "    </tr>\n",
       "    <tr>\n",
       "      <th>17</th>\n",
       "      <td>52</td>\n",
       "      <td>6</td>\n",
       "    </tr>\n",
       "    <tr>\n",
       "      <th>18</th>\n",
       "      <td>52</td>\n",
       "      <td>6</td>\n",
       "    </tr>\n",
       "    <tr>\n",
       "      <th>19</th>\n",
       "      <td>52</td>\n",
       "      <td>6</td>\n",
       "    </tr>\n",
       "    <tr>\n",
       "      <th>20</th>\n",
       "      <td>52</td>\n",
       "      <td>6</td>\n",
       "    </tr>\n",
       "    <tr>\n",
       "      <th>21</th>\n",
       "      <td>52</td>\n",
       "      <td>7</td>\n",
       "    </tr>\n",
       "    <tr>\n",
       "      <th>22</th>\n",
       "      <td>52</td>\n",
       "      <td>7</td>\n",
       "    </tr>\n",
       "    <tr>\n",
       "      <th>23</th>\n",
       "      <td>52</td>\n",
       "      <td>5</td>\n",
       "    </tr>\n",
       "    <tr>\n",
       "      <th>24</th>\n",
       "      <td>52</td>\n",
       "      <td>5</td>\n",
       "    </tr>\n",
       "    <tr>\n",
       "      <th>25</th>\n",
       "      <td>52</td>\n",
       "      <td>6</td>\n",
       "    </tr>\n",
       "    <tr>\n",
       "      <th>26</th>\n",
       "      <td>60</td>\n",
       "      <td>8</td>\n",
       "    </tr>\n",
       "    <tr>\n",
       "      <th>27</th>\n",
       "      <td>60</td>\n",
       "      <td>8</td>\n",
       "    </tr>\n",
       "    <tr>\n",
       "      <th>28</th>\n",
       "      <td>60</td>\n",
       "      <td>9</td>\n",
       "    </tr>\n",
       "    <tr>\n",
       "      <th>29</th>\n",
       "      <td>60</td>\n",
       "      <td>10</td>\n",
       "    </tr>\n",
       "    <tr>\n",
       "      <th>30</th>\n",
       "      <td>60</td>\n",
       "      <td>9</td>\n",
       "    </tr>\n",
       "    <tr>\n",
       "      <th>31</th>\n",
       "      <td>60</td>\n",
       "      <td>11</td>\n",
       "    </tr>\n",
       "    <tr>\n",
       "      <th>32</th>\n",
       "      <td>60</td>\n",
       "      <td>10</td>\n",
       "    </tr>\n",
       "    <tr>\n",
       "      <th>33</th>\n",
       "      <td>60</td>\n",
       "      <td>9</td>\n",
       "    </tr>\n",
       "    <tr>\n",
       "      <th>34</th>\n",
       "      <td>60</td>\n",
       "      <td>8</td>\n",
       "    </tr>\n",
       "    <tr>\n",
       "      <th>35</th>\n",
       "      <td>60</td>\n",
       "      <td>9</td>\n",
       "    </tr>\n",
       "  </tbody>\n",
       "</table>\n",
       "</div>"
      ],
      "text/plain": [
       "    Time  ul\n",
       "0     22   3\n",
       "1     22   2\n",
       "2     22   3\n",
       "3     22   2\n",
       "4     22   1\n",
       "5     22   1\n",
       "6     44   5\n",
       "7     44   5\n",
       "8     44   4\n",
       "9     44   4\n",
       "10    44   4\n",
       "11    44   4\n",
       "12    44   4\n",
       "13    44   5\n",
       "14    44   3\n",
       "15    44   5\n",
       "16    52   7\n",
       "17    52   6\n",
       "18    52   6\n",
       "19    52   6\n",
       "20    52   6\n",
       "21    52   7\n",
       "22    52   7\n",
       "23    52   5\n",
       "24    52   5\n",
       "25    52   6\n",
       "26    60   8\n",
       "27    60   8\n",
       "28    60   9\n",
       "29    60  10\n",
       "30    60   9\n",
       "31    60  11\n",
       "32    60  10\n",
       "33    60   9\n",
       "34    60   8\n",
       "35    60   9"
      ]
     },
     "execution_count": 3,
     "metadata": {},
     "output_type": "execute_result"
    }
   ],
   "source": [
    "# Raw Dataframe\n",
    "df = pd.DataFrame(\n",
    "    {'Time' : [22, 22, 22, 22, 22, 22, 44, 44, 44, 44, 44, 44, 44, 44, 44, 44, 52, 52, 52, 52, 52, 52, 52, 52, 52, 52, 60, 60, 60, 60, 60, 60, 60, 60, 60, 60],\n",
    "     'ul' : [3, 2, 3, 2, 1, 1, 5, 5, 4, 4, 4, 4, 4, 5, 3, 5, 7, 6, 6, 6, 6, 7, 7, 5, 5, 6, 8, 8, 9, 10, 9, 11, 10, 9, 8, 9]}\n",
    ")\n",
    "df\n"
   ]
  },
  {
   "cell_type": "code",
   "execution_count": 4,
   "metadata": {},
   "outputs": [
    {
     "data": {
      "text/html": [
       "<div>\n",
       "<style scoped>\n",
       "    .dataframe tbody tr th:only-of-type {\n",
       "        vertical-align: middle;\n",
       "    }\n",
       "\n",
       "    .dataframe tbody tr th {\n",
       "        vertical-align: top;\n",
       "    }\n",
       "\n",
       "    .dataframe thead th {\n",
       "        text-align: right;\n",
       "    }\n",
       "</style>\n",
       "<table border=\"1\" class=\"dataframe\">\n",
       "  <thead>\n",
       "    <tr style=\"text-align: right;\">\n",
       "      <th></th>\n",
       "      <th>Time</th>\n",
       "      <th>ul</th>\n",
       "    </tr>\n",
       "  </thead>\n",
       "  <tbody>\n",
       "    <tr>\n",
       "      <th>0</th>\n",
       "      <td>22</td>\n",
       "      <td>2.0</td>\n",
       "    </tr>\n",
       "    <tr>\n",
       "      <th>1</th>\n",
       "      <td>44</td>\n",
       "      <td>4.3</td>\n",
       "    </tr>\n",
       "    <tr>\n",
       "      <th>2</th>\n",
       "      <td>52</td>\n",
       "      <td>6.1</td>\n",
       "    </tr>\n",
       "    <tr>\n",
       "      <th>3</th>\n",
       "      <td>60</td>\n",
       "      <td>9.1</td>\n",
       "    </tr>\n",
       "  </tbody>\n",
       "</table>\n",
       "</div>"
      ],
      "text/plain": [
       "   Time   ul\n",
       "0    22  2.0\n",
       "1    44  4.3\n",
       "2    52  6.1\n",
       "3    60  9.1"
      ]
     },
     "execution_count": 4,
     "metadata": {},
     "output_type": "execute_result"
    }
   ],
   "source": [
    "\n",
    "# Getting mean values for datapoints\n",
    "df_calc = df.groupby('Time').mean().reset_index()\n",
    "df_calc = df_calc.sort_values('ul', ascending=True)\n",
    "df_calc"
   ]
  },
  {
   "cell_type": "code",
   "execution_count": 5,
   "metadata": {},
   "outputs": [],
   "source": [
    "x, y = df_calc['ul'], df_calc['Time']"
   ]
  },
  {
   "cell_type": "code",
   "execution_count": 6,
   "metadata": {},
   "outputs": [
    {
     "name": "stdout",
     "output_type": "stream",
     "text": [
      "y = 13.55051 * x + -0.74653 * x^2 + -1.73702\n"
     ]
    }
   ],
   "source": [
    "#This equation is used to determine the relationship of how ul is related to time (x = ul, y = time)\n",
    "\n",
    "def objective(x, a, b, c):\n",
    " return a * x + b * x**2 + c\n",
    "popt, _ = curve_fit(objective, x, y)\n",
    "a, b, c = popt\n",
    "print('y = %.5f * x + %.5f * x^2 + %.5f' % (a, b, c))"
   ]
  },
  {
   "cell_type": "code",
   "execution_count": 7,
   "metadata": {},
   "outputs": [],
   "source": [
    "# Equation to determine 8 ul\n",
    "def waterfunction(x):\n",
    "    y = 13.55051 * x + -0.74653 * x ** 2 + -1.73702\n",
    "    return(y)"
   ]
  },
  {
   "cell_type": "code",
   "execution_count": 8,
   "metadata": {},
   "outputs": [
    {
     "data": {
      "text/plain": [
       "40.52054"
      ]
     },
     "execution_count": 8,
     "metadata": {},
     "output_type": "execute_result"
    }
   ],
   "source": [
    "waterfunction(4)"
   ]
  },
  {
   "cell_type": "code",
   "execution_count": 9,
   "metadata": {},
   "outputs": [
    {
     "data": {
      "text/html": [
       "<div>\n",
       "<style scoped>\n",
       "    .dataframe tbody tr th:only-of-type {\n",
       "        vertical-align: middle;\n",
       "    }\n",
       "\n",
       "    .dataframe tbody tr th {\n",
       "        vertical-align: top;\n",
       "    }\n",
       "\n",
       "    .dataframe thead th {\n",
       "        text-align: right;\n",
       "    }\n",
       "</style>\n",
       "<table border=\"1\" class=\"dataframe\">\n",
       "  <thead>\n",
       "    <tr style=\"text-align: right;\">\n",
       "      <th></th>\n",
       "      <th>Time</th>\n",
       "      <th>ul</th>\n",
       "    </tr>\n",
       "  </thead>\n",
       "  <tbody>\n",
       "    <tr>\n",
       "      <th>0</th>\n",
       "      <td>22.00000</td>\n",
       "      <td>2.0</td>\n",
       "    </tr>\n",
       "    <tr>\n",
       "      <th>1</th>\n",
       "      <td>44.00000</td>\n",
       "      <td>4.3</td>\n",
       "    </tr>\n",
       "    <tr>\n",
       "      <th>2</th>\n",
       "      <td>52.00000</td>\n",
       "      <td>6.1</td>\n",
       "    </tr>\n",
       "    <tr>\n",
       "      <th>3</th>\n",
       "      <td>58.88914</td>\n",
       "      <td>8.0</td>\n",
       "    </tr>\n",
       "  </tbody>\n",
       "</table>\n",
       "</div>"
      ],
      "text/plain": [
       "       Time   ul\n",
       "0  22.00000  2.0\n",
       "1  44.00000  4.3\n",
       "2  52.00000  6.1\n",
       "3  58.88914  8.0"
      ]
     },
     "execution_count": 9,
     "metadata": {},
     "output_type": "execute_result"
    }
   ],
   "source": [
    "# Determine the time for 8 ul and put it in the dataframe\n",
    "\n",
    "df_calc.loc[3, 'Time'] = waterfunction(8)\n",
    "df_calc.loc[3, 'ul'] = 8\n",
    "df_calc"
   ]
  },
  {
   "cell_type": "code",
   "execution_count": 10,
   "metadata": {},
   "outputs": [
    {
     "name": "stdout",
     "output_type": "stream",
     "text": [
      "y = 13.94674 * x + -0.79141 * x^2 + -2.43169\n"
     ]
    }
   ],
   "source": [
    "# Come up wiht a new equation where Time is x now and ul is y\n",
    "\n",
    "x, y = df_calc['ul'], df_calc['Time']\n",
    "\n",
    "def objective(x, a, b, c):\n",
    " return a * x + b * x**2 + c\n",
    "popt, _ = curve_fit(objective, x, y)\n",
    "a, b, c = popt\n",
    "print('y = %.5f * x + %.5f * x^2 + %.5f' % (a, b, c))"
   ]
  },
  {
   "cell_type": "code",
   "execution_count": 11,
   "metadata": {},
   "outputs": [
    {
     "data": {
      "image/png": "[encoded data removed]",
      "text/plain": [
       "<Figure size 640x480 with 1 Axes>"
      ]
     },
     "metadata": {},
     "output_type": "display_data"
    }
   ],
   "source": [
    "# Graph the equation\n",
    "\n",
    "x_line = arange(min(x), max(x), 1)\n",
    "y_line = objective(x_line, a, b, c)\n",
    "\n",
    "plt.plot(x_line, y_line, '--', color='red')\n",
    "plt.scatter(x = 'ul', y = 'Time', data = df_calc)\n",
    "plt.ylabel(\"Time (ms)\")\n",
    "plt.xlabel(\"ul\")\n",
    "plt.show()"
   ]
  },
  {
   "cell_type": "code",
   "execution_count": 12,
   "metadata": {},
   "outputs": [
    {
     "data": {
      "text/html": [
       "<div>\n",
       "<style scoped>\n",
       "    .dataframe tbody tr th:only-of-type {\n",
       "        vertical-align: middle;\n",
       "    }\n",
       "\n",
       "    .dataframe tbody tr th {\n",
       "        vertical-align: top;\n",
       "    }\n",
       "\n",
       "    .dataframe thead th {\n",
       "        text-align: right;\n",
       "    }\n",
       "</style>\n",
       "<table border=\"1\" class=\"dataframe\">\n",
       "  <thead>\n",
       "    <tr style=\"text-align: right;\">\n",
       "      <th></th>\n",
       "      <th>Time</th>\n",
       "      <th>ul</th>\n",
       "      <th>ul Opposite</th>\n",
       "    </tr>\n",
       "  </thead>\n",
       "  <tbody>\n",
       "    <tr>\n",
       "      <th>0</th>\n",
       "      <td>22.00000</td>\n",
       "      <td>2.0</td>\n",
       "      <td>8.0</td>\n",
       "    </tr>\n",
       "    <tr>\n",
       "      <th>1</th>\n",
       "      <td>44.00000</td>\n",
       "      <td>4.3</td>\n",
       "      <td>6.1</td>\n",
       "    </tr>\n",
       "    <tr>\n",
       "      <th>2</th>\n",
       "      <td>52.00000</td>\n",
       "      <td>6.1</td>\n",
       "      <td>4.3</td>\n",
       "    </tr>\n",
       "    <tr>\n",
       "      <th>3</th>\n",
       "      <td>58.88914</td>\n",
       "      <td>8.0</td>\n",
       "      <td>2.0</td>\n",
       "    </tr>\n",
       "  </tbody>\n",
       "</table>\n",
       "</div>"
      ],
      "text/plain": [
       "       Time   ul  ul Opposite\n",
       "0  22.00000  2.0          8.0\n",
       "1  44.00000  4.3          6.1\n",
       "2  52.00000  6.1          4.3\n",
       "3  58.88914  8.0          2.0"
      ]
     },
     "execution_count": 12,
     "metadata": {},
     "output_type": "execute_result"
    }
   ],
   "source": [
    "df_calc['ul Opposite'] = [8, 6.1, 4.3, 2]\n",
    "df_calc"
   ]
  },
  {
   "cell_type": "code",
   "execution_count": 13,
   "metadata": {},
   "outputs": [
    {
     "name": "stdout",
     "output_type": "stream",
     "text": [
      "y = 4.57457 * x + -1.05457 * x^2 + 53.50447\n"
     ]
    }
   ],
   "source": [
    "x1, y1 = df_calc['ul Opposite'], df_calc['Time']\n",
    "\n",
    "def objective(x, a, b, c):\n",
    " return a * x + b * x**2 + c\n",
    "popt, _ = curve_fit(objective, x1, y1)\n",
    "a, b, c = popt\n",
    "print('y = %.5f * x + %.5f * x^2 + %.5f' % (a, b, c))"
   ]
  },
  {
   "cell_type": "code",
   "execution_count": 14,
   "metadata": {},
   "outputs": [
    {
     "data": {
      "image/png": "[encoded data removed]",
      "text/plain": [
       "<Figure size 640x480 with 1 Axes>"
      ]
     },
     "metadata": {},
     "output_type": "display_data"
    }
   ],
   "source": [
    "x1_line = arange(min(x1), max(x1), 1)\n",
    "y1_line = objective(x_line, a, b, c)\n",
    "\n",
    "plt.plot(x_line, y_line, '--', color='red')\n",
    "plt.plot(x1_line, y1_line, '--', color='red')\n",
    "plt.scatter(x = 'ul', y = 'Time', data = df_calc)\n",
    "plt.scatter(x = 'ul Opposite', y = 'Time', data = df_calc)\n",
    "plt.ylabel(\"Time (ms)\")\n",
    "plt.xlabel(\"ul\")\n",
    "plt.show()"
   ]
  },
  {
   "cell_type": "code",
   "execution_count": 15,
   "metadata": {},
   "outputs": [
    {
     "name": "stdout",
     "output_type": "stream",
     "text": [
      "[(-3.07024999129229, 3.94515074651913), (48.2768433978857, 5.19193942655176)]\n"
     ]
    }
   ],
   "source": [
    "## Solving where they cross each other\n",
    "\n",
    "from sympy import symbols, Eq, solve\n",
    "\n",
    "# Define the symbols and equations\n",
    "x, y = symbols('x y')\n",
    "eq1 = Eq(y, 0.26026 * x + -0.00522 * x**2 + 4.79342)\n",
    "eq2 = Eq(y, -0.15112 * x + 0.00388 * x**2 + 3.44460)\n",
    "\n",
    "# Solve the system of equations\n",
    "sol = solve((eq1, eq2), (x, y))\n",
    "\n",
    "# Print the solution\n",
    "print(sol)\n"
   ]
  },
  {
   "cell_type": "code",
   "execution_count": 16,
   "metadata": {},
   "outputs": [],
   "source": [
    "new_row = {'Time': 48.2768433978857, 'ul': 5.19193942655176, 'ul Opposite': None}\n",
    "\n",
    "df_calc = pd.concat([df_calc.loc[:1], pd.DataFrame([new_row]), df_calc.loc[2:]], ignore_index=True)"
   ]
  },
  {
   "cell_type": "code",
   "execution_count": 17,
   "metadata": {},
   "outputs": [
    {
     "data": {
      "text/html": [
       "<div>\n",
       "<style scoped>\n",
       "    .dataframe tbody tr th:only-of-type {\n",
       "        vertical-align: middle;\n",
       "    }\n",
       "\n",
       "    .dataframe tbody tr th {\n",
       "        vertical-align: top;\n",
       "    }\n",
       "\n",
       "    .dataframe thead th {\n",
       "        text-align: right;\n",
       "    }\n",
       "</style>\n",
       "<table border=\"1\" class=\"dataframe\">\n",
       "  <thead>\n",
       "    <tr style=\"text-align: right;\">\n",
       "      <th></th>\n",
       "      <th>Time</th>\n",
       "      <th>ul</th>\n",
       "      <th>ul Opposite</th>\n",
       "    </tr>\n",
       "  </thead>\n",
       "  <tbody>\n",
       "    <tr>\n",
       "      <th>0</th>\n",
       "      <td>22.000000</td>\n",
       "      <td>2.000000</td>\n",
       "      <td>8.0</td>\n",
       "    </tr>\n",
       "    <tr>\n",
       "      <th>1</th>\n",
       "      <td>44.000000</td>\n",
       "      <td>4.300000</td>\n",
       "      <td>6.1</td>\n",
       "    </tr>\n",
       "    <tr>\n",
       "      <th>2</th>\n",
       "      <td>48.276843</td>\n",
       "      <td>5.191939</td>\n",
       "      <td>NaN</td>\n",
       "    </tr>\n",
       "    <tr>\n",
       "      <th>3</th>\n",
       "      <td>52.000000</td>\n",
       "      <td>6.100000</td>\n",
       "      <td>4.3</td>\n",
       "    </tr>\n",
       "    <tr>\n",
       "      <th>4</th>\n",
       "      <td>58.889140</td>\n",
       "      <td>8.000000</td>\n",
       "      <td>2.0</td>\n",
       "    </tr>\n",
       "  </tbody>\n",
       "</table>\n",
       "</div>"
      ],
      "text/plain": [
       "        Time        ul  ul Opposite\n",
       "0  22.000000  2.000000          8.0\n",
       "1  44.000000  4.300000          6.1\n",
       "2  48.276843  5.191939          NaN\n",
       "3  52.000000  6.100000          4.3\n",
       "4  58.889140  8.000000          2.0"
      ]
     },
     "execution_count": 17,
     "metadata": {},
     "output_type": "execute_result"
    }
   ],
   "source": [
    "df_calc"
   ]
  },
  {
   "cell_type": "code",
   "execution_count": 18,
   "metadata": {},
   "outputs": [],
   "source": [
    "df_calc['(F-R)/(F+R)'] = [-1, None, 0, None, 1]"
   ]
  },
  {
   "cell_type": "code",
   "execution_count": 19,
   "metadata": {},
   "outputs": [
    {
     "data": {
      "text/html": [
       "<div>\n",
       "<style scoped>\n",
       "    .dataframe tbody tr th:only-of-type {\n",
       "        vertical-align: middle;\n",
       "    }\n",
       "\n",
       "    .dataframe tbody tr th {\n",
       "        vertical-align: top;\n",
       "    }\n",
       "\n",
       "    .dataframe thead th {\n",
       "        text-align: right;\n",
       "    }\n",
       "</style>\n",
       "<table border=\"1\" class=\"dataframe\">\n",
       "  <thead>\n",
       "    <tr style=\"text-align: right;\">\n",
       "      <th></th>\n",
       "      <th>Time</th>\n",
       "      <th>ul</th>\n",
       "      <th>ul Opposite</th>\n",
       "      <th>(F-R)/(F+R)</th>\n",
       "    </tr>\n",
       "  </thead>\n",
       "  <tbody>\n",
       "    <tr>\n",
       "      <th>0</th>\n",
       "      <td>22.000000</td>\n",
       "      <td>2.000000</td>\n",
       "      <td>8.0</td>\n",
       "      <td>-1.0</td>\n",
       "    </tr>\n",
       "    <tr>\n",
       "      <th>1</th>\n",
       "      <td>44.000000</td>\n",
       "      <td>4.300000</td>\n",
       "      <td>6.1</td>\n",
       "      <td>NaN</td>\n",
       "    </tr>\n",
       "    <tr>\n",
       "      <th>2</th>\n",
       "      <td>48.276843</td>\n",
       "      <td>5.191939</td>\n",
       "      <td>NaN</td>\n",
       "      <td>0.0</td>\n",
       "    </tr>\n",
       "    <tr>\n",
       "      <th>3</th>\n",
       "      <td>52.000000</td>\n",
       "      <td>6.100000</td>\n",
       "      <td>4.3</td>\n",
       "      <td>NaN</td>\n",
       "    </tr>\n",
       "    <tr>\n",
       "      <th>4</th>\n",
       "      <td>58.889140</td>\n",
       "      <td>8.000000</td>\n",
       "      <td>2.0</td>\n",
       "      <td>1.0</td>\n",
       "    </tr>\n",
       "  </tbody>\n",
       "</table>\n",
       "</div>"
      ],
      "text/plain": [
       "        Time        ul  ul Opposite  (F-R)/(F+R)\n",
       "0  22.000000  2.000000          8.0         -1.0\n",
       "1  44.000000  4.300000          6.1          NaN\n",
       "2  48.276843  5.191939          NaN          0.0\n",
       "3  52.000000  6.100000          4.3          NaN\n",
       "4  58.889140  8.000000          2.0          1.0"
      ]
     },
     "execution_count": 19,
     "metadata": {},
     "output_type": "execute_result"
    }
   ],
   "source": [
    "df_calc"
   ]
  },
  {
   "cell_type": "code",
   "execution_count": 20,
   "metadata": {},
   "outputs": [
    {
     "name": "stdout",
     "output_type": "stream",
     "text": [
      "y = 18.44457 * x + -7.83227 * x^2 + 48.27684\n"
     ]
    },
    {
     "name": "stderr",
     "output_type": "stream",
     "text": [
      "/Users/rajharsora/opt/anaconda3/lib/python3.9/site-packages/scipy/optimize/_minpack_py.py:881: OptimizeWarning: Covariance of the parameters could not be estimated\n",
      "  warnings.warn('Covariance of the parameters could not be estimated',\n"
     ]
    }
   ],
   "source": [
    "df_calc = df_calc.dropna(subset=['(F-R)/(F+R)'])\n",
    "\n",
    "x2, y2 = df_calc['(F-R)/(F+R)'], df_calc['Time']\n",
    "\n",
    "def objective(x, a, b, c):\n",
    " return a * x + b * x**2 + c\n",
    "popt, _ = curve_fit(objective, x2, y2)\n",
    "a, b, c = popt\n",
    "print('y = %.5f * x + %.5f * x^2 + %.5f' % (a, b, c))"
   ]
  },
  {
   "cell_type": "code",
   "execution_count": 21,
   "metadata": {},
   "outputs": [
    {
     "data": {
      "text/html": [
       "<div>\n",
       "<style scoped>\n",
       "    .dataframe tbody tr th:only-of-type {\n",
       "        vertical-align: middle;\n",
       "    }\n",
       "\n",
       "    .dataframe tbody tr th {\n",
       "        vertical-align: top;\n",
       "    }\n",
       "\n",
       "    .dataframe thead th {\n",
       "        text-align: right;\n",
       "    }\n",
       "</style>\n",
       "<table border=\"1\" class=\"dataframe\">\n",
       "  <thead>\n",
       "    <tr style=\"text-align: right;\">\n",
       "      <th></th>\n",
       "      <th>Time</th>\n",
       "      <th>ul</th>\n",
       "      <th>ul Opposite</th>\n",
       "      <th>(F-R)/(F+R)</th>\n",
       "    </tr>\n",
       "  </thead>\n",
       "  <tbody>\n",
       "    <tr>\n",
       "      <th>0</th>\n",
       "      <td>22.000000</td>\n",
       "      <td>2.000000</td>\n",
       "      <td>8.0</td>\n",
       "      <td>-1.0</td>\n",
       "    </tr>\n",
       "    <tr>\n",
       "      <th>2</th>\n",
       "      <td>48.276843</td>\n",
       "      <td>5.191939</td>\n",
       "      <td>NaN</td>\n",
       "      <td>0.0</td>\n",
       "    </tr>\n",
       "    <tr>\n",
       "      <th>4</th>\n",
       "      <td>58.889140</td>\n",
       "      <td>8.000000</td>\n",
       "      <td>2.0</td>\n",
       "      <td>1.0</td>\n",
       "    </tr>\n",
       "  </tbody>\n",
       "</table>\n",
       "</div>"
      ],
      "text/plain": [
       "        Time        ul  ul Opposite  (F-R)/(F+R)\n",
       "0  22.000000  2.000000          8.0         -1.0\n",
       "2  48.276843  5.191939          NaN          0.0\n",
       "4  58.889140  8.000000          2.0          1.0"
      ]
     },
     "execution_count": 21,
     "metadata": {},
     "output_type": "execute_result"
    }
   ],
   "source": [
    "df_calc"
   ]
  },
  {
   "cell_type": "code",
   "execution_count": 22,
   "metadata": {},
   "outputs": [
    {
     "data": {
      "image/png": "[encoded data removed]",
      "text/plain": [
       "<Figure size 640x480 with 1 Axes>"
      ]
     },
     "metadata": {},
     "output_type": "display_data"
    }
   ],
   "source": [
    "x2_line = arange(min(x2), max(x2), 1)\n",
    "y2_line = objective(x2_line, a, b, c)\n",
    "\n",
    "plt.plot(x2_line, y2_line, '--', color='red')\n",
    "plt.scatter(x = '(F-R)/(F+R)', y = 'Time', data = df_calc)\n",
    "plt.ylabel(\"Time (ms)\")\n",
    "plt.xlabel(\"(F-R)/(F+R)\")\n",
    "plt.show()"
   ]
  },
  {
   "attachments": {},
   "cell_type": "markdown",
   "metadata": {},
   "source": [
    "# The Real Equations and Graphs"
   ]
  },
  {
   "cell_type": "code",
   "execution_count": 23,
   "metadata": {},
   "outputs": [
    {
     "name": "stdout",
     "output_type": "stream",
     "text": [
      "The equation is Time = -7.83 * (F-R)/(F+R)**2 + 18.44 * (F-R)/(F+R) + 48.28\n"
     ]
    }
   ],
   "source": [
    "x = df_calc['(F-R)/(F+R)']\n",
    "y = df_calc['Time']\n",
    "\n",
    "p = np.polyfit(x, y, 2)\n",
    "\n",
    "print(f'The equation is Time = {p[0]:.2f} * (F-R)/(F+R)**2 + {p[1]:.2f} * (F-R)/(F+R) + {p[2]:.2f}')"
   ]
  },
  {
   "cell_type": "code",
   "execution_count": 24,
   "metadata": {},
   "outputs": [
    {
     "data": {
      "image/png": "[encoded data removed]",
      "text/plain": [
       "<Figure size 640x480 with 1 Axes>"
      ]
     },
     "metadata": {},
     "output_type": "display_data"
    }
   ],
   "source": [
    "x = df_calc['(F-R)/(F+R)']\n",
    "y = df_calc['Time']\n",
    "\n",
    "# Fit the curve to the data using numpy.polyfit\n",
    "p = np.polyfit(x, y, 2)\n",
    "\n",
    "# Define a range of values for (F-R)/(F+R)\n",
    "x_range = np.linspace(x.min(), x.max(), 100)\n",
    "\n",
    "# Evaluate the second order polynomial equation for each value in the range\n",
    "y_range = p[0]*x_range**2 + p[1]*x_range + p[2]\n",
    "\n",
    "# Plot the curve and the data points\n",
    "plt.plot(x_range, y_range, label='Second Order Polynomial')\n",
    "plt.scatter(x, y, color='red', label='Data Points')\n",
    "\n",
    "# Add axis labels and a legend\n",
    "plt.xlabel('(F-R)/(F+R)')\n",
    "plt.ylabel('Time')\n",
    "plt.legend()\n",
    "\n",
    "# Show the plot\n",
    "plt.show()\n"
   ]
  },
  {
   "cell_type": "code",
   "execution_count": 25,
   "metadata": {},
   "outputs": [
    {
     "ename": "KeyError",
     "evalue": "'reversed_ratios'",
     "output_type": "error",
     "traceback": [
      "\u001b[0;31m---------------------------------------------------------------------------\u001b[0m",
      "\u001b[0;31mKeyError\u001b[0m                                  Traceback (most recent call last)",
      "\u001b[0;32m~/opt/anaconda3/lib/python3.9/site-packages/pandas/core/indexes/base.py\u001b[0m in \u001b[0;36mget_loc\u001b[0;34m(self, key, method, tolerance)\u001b[0m\n\u001b[1;32m   3628\u001b[0m             \u001b[0;32mtry\u001b[0m\u001b[0;34m:\u001b[0m\u001b[0;34m\u001b[0m\u001b[0;34m\u001b[0m\u001b[0m\n\u001b[0;32m-> 3629\u001b[0;31m                 \u001b[0;32mreturn\u001b[0m \u001b[0mself\u001b[0m\u001b[0;34m.\u001b[0m\u001b[0m_engine\u001b[0m\u001b[0;34m.\u001b[0m\u001b[0mget_loc\u001b[0m\u001b[0;34m(\u001b[0m\u001b[0mcasted_key\u001b[0m\u001b[0;34m)\u001b[0m\u001b[0;34m\u001b[0m\u001b[0;34m\u001b[0m\u001b[0m\n\u001b[0m\u001b[1;32m   3630\u001b[0m             \u001b[0;32mexcept\u001b[0m \u001b[0mKeyError\u001b[0m \u001b[0;32mas\u001b[0m \u001b[0merr\u001b[0m\u001b[0;34m:\u001b[0m\u001b[0;34m\u001b[0m\u001b[0;34m\u001b[0m\u001b[0m\n",
      "\u001b[0;32m~/opt/anaconda3/lib/python3.9/site-packages/pandas/_libs/index.pyx\u001b[0m in \u001b[0;36mpandas._libs.index.IndexEngine.get_loc\u001b[0;34m()\u001b[0m\n",
      "\u001b[0;32m~/opt/anaconda3/lib/python3.9/site-packages/pandas/_libs/index.pyx\u001b[0m in \u001b[0;36mpandas._libs.index.IndexEngine.get_loc\u001b[0;34m()\u001b[0m\n",
      "\u001b[0;32mpandas/_libs/hashtable_class_helper.pxi\u001b[0m in \u001b[0;36mpandas._libs.hashtable.PyObjectHashTable.get_item\u001b[0;34m()\u001b[0m\n",
      "\u001b[0;32mpandas/_libs/hashtable_class_helper.pxi\u001b[0m in \u001b[0;36mpandas._libs.hashtable.PyObjectHashTable.get_item\u001b[0;34m()\u001b[0m\n",
      "\u001b[0;31mKeyError\u001b[0m: 'reversed_ratios'",
      "\nThe above exception was the direct cause of the following exception:\n",
      "\u001b[0;31mKeyError\u001b[0m                                  Traceback (most recent call last)",
      "\u001b[0;32m/var/folders/_9/bcsw8t693hgcmq4vq9xkqkb40000gn/T/ipykernel_49185/1250015425.py\u001b[0m in \u001b[0;36m<module>\u001b[0;34m\u001b[0m\n\u001b[1;32m      1\u001b[0m \u001b[0mreversed_ratios\u001b[0m \u001b[0;34m=\u001b[0m \u001b[0;34m[\u001b[0m\u001b[0;36m1.0\u001b[0m\u001b[0;34m,\u001b[0m \u001b[0;36m0.0\u001b[0m\u001b[0;34m,\u001b[0m \u001b[0;34m-\u001b[0m\u001b[0;36m1.0\u001b[0m\u001b[0;34m]\u001b[0m\u001b[0;34m\u001b[0m\u001b[0;34m\u001b[0m\u001b[0m\n\u001b[1;32m      2\u001b[0m \u001b[0;34m\u001b[0m\u001b[0m\n\u001b[0;32m----> 3\u001b[0;31m \u001b[0mreversed_ratios\u001b[0m \u001b[0;34m=\u001b[0m \u001b[0mdf_calc\u001b[0m\u001b[0;34m[\u001b[0m\u001b[0;34m'reversed_ratios'\u001b[0m\u001b[0;34m]\u001b[0m\u001b[0;34m\u001b[0m\u001b[0;34m\u001b[0m\u001b[0m\n\u001b[0m\u001b[1;32m      4\u001b[0m \u001b[0mdf_calc\u001b[0m\u001b[0;34m\u001b[0m\u001b[0;34m\u001b[0m\u001b[0m\n",
      "\u001b[0;32m~/opt/anaconda3/lib/python3.9/site-packages/pandas/core/frame.py\u001b[0m in \u001b[0;36m__getitem__\u001b[0;34m(self, key)\u001b[0m\n\u001b[1;32m   3503\u001b[0m             \u001b[0;32mif\u001b[0m \u001b[0mself\u001b[0m\u001b[0;34m.\u001b[0m\u001b[0mcolumns\u001b[0m\u001b[0;34m.\u001b[0m\u001b[0mnlevels\u001b[0m \u001b[0;34m>\u001b[0m \u001b[0;36m1\u001b[0m\u001b[0;34m:\u001b[0m\u001b[0;34m\u001b[0m\u001b[0;34m\u001b[0m\u001b[0m\n\u001b[1;32m   3504\u001b[0m                 \u001b[0;32mreturn\u001b[0m \u001b[0mself\u001b[0m\u001b[0;34m.\u001b[0m\u001b[0m_getitem_multilevel\u001b[0m\u001b[0;34m(\u001b[0m\u001b[0mkey\u001b[0m\u001b[0;34m)\u001b[0m\u001b[0;34m\u001b[0m\u001b[0;34m\u001b[0m\u001b[0m\n\u001b[0;32m-> 3505\u001b[0;31m             \u001b[0mindexer\u001b[0m \u001b[0;34m=\u001b[0m \u001b[0mself\u001b[0m\u001b[0;34m.\u001b[0m\u001b[0mcolumns\u001b[0m\u001b[0;34m.\u001b[0m\u001b[0mget_loc\u001b[0m\u001b[0;34m(\u001b[0m\u001b[0mkey\u001b[0m\u001b[0;34m)\u001b[0m\u001b[0;34m\u001b[0m\u001b[0;34m\u001b[0m\u001b[0m\n\u001b[0m\u001b[1;32m   3506\u001b[0m             \u001b[0;32mif\u001b[0m \u001b[0mis_integer\u001b[0m\u001b[0;34m(\u001b[0m\u001b[0mindexer\u001b[0m\u001b[0;34m)\u001b[0m\u001b[0;34m:\u001b[0m\u001b[0;34m\u001b[0m\u001b[0;34m\u001b[0m\u001b[0m\n\u001b[1;32m   3507\u001b[0m                 \u001b[0mindexer\u001b[0m \u001b[0;34m=\u001b[0m \u001b[0;34m[\u001b[0m\u001b[0mindexer\u001b[0m\u001b[0;34m]\u001b[0m\u001b[0;34m\u001b[0m\u001b[0;34m\u001b[0m\u001b[0m\n",
      "\u001b[0;32m~/opt/anaconda3/lib/python3.9/site-packages/pandas/core/indexes/base.py\u001b[0m in \u001b[0;36mget_loc\u001b[0;34m(self, key, method, tolerance)\u001b[0m\n\u001b[1;32m   3629\u001b[0m                 \u001b[0;32mreturn\u001b[0m \u001b[0mself\u001b[0m\u001b[0;34m.\u001b[0m\u001b[0m_engine\u001b[0m\u001b[0;34m.\u001b[0m\u001b[0mget_loc\u001b[0m\u001b[0;34m(\u001b[0m\u001b[0mcasted_key\u001b[0m\u001b[0;34m)\u001b[0m\u001b[0;34m\u001b[0m\u001b[0;34m\u001b[0m\u001b[0m\n\u001b[1;32m   3630\u001b[0m             \u001b[0;32mexcept\u001b[0m \u001b[0mKeyError\u001b[0m \u001b[0;32mas\u001b[0m \u001b[0merr\u001b[0m\u001b[0;34m:\u001b[0m\u001b[0;34m\u001b[0m\u001b[0;34m\u001b[0m\u001b[0m\n\u001b[0;32m-> 3631\u001b[0;31m                 \u001b[0;32mraise\u001b[0m \u001b[0mKeyError\u001b[0m\u001b[0;34m(\u001b[0m\u001b[0mkey\u001b[0m\u001b[0;34m)\u001b[0m \u001b[0;32mfrom\u001b[0m \u001b[0merr\u001b[0m\u001b[0;34m\u001b[0m\u001b[0;34m\u001b[0m\u001b[0m\n\u001b[0m\u001b[1;32m   3632\u001b[0m             \u001b[0;32mexcept\u001b[0m \u001b[0mTypeError\u001b[0m\u001b[0;34m:\u001b[0m\u001b[0;34m\u001b[0m\u001b[0;34m\u001b[0m\u001b[0m\n\u001b[1;32m   3633\u001b[0m                 \u001b[0;31m# If we have a listlike key, _check_indexing_error will raise\u001b[0m\u001b[0;34m\u001b[0m\u001b[0;34m\u001b[0m\u001b[0m\n",
      "\u001b[0;31mKeyError\u001b[0m: 'reversed_ratios'"
     ]
    }
   ],
   "source": [
    "reversed_ratios = [1.0, 0.0, -1.0]\n",
    "\n",
    "reversed_ratios = df_calc['reversed_ratios'] \n",
    "df_calc"
   ]
  },
  {
   "cell_type": "code",
   "execution_count": null,
   "metadata": {},
   "outputs": [
    {
     "name": "stdout",
     "output_type": "stream",
     "text": [
      "The equation is Time = -7.83 * (F-R)/(F+R)**2 + -18.44 * (F-R)/(F+R) + 48.28\n"
     ]
    }
   ],
   "source": [
    "x = df_calc['reversed_ratios']\n",
    "y = df_calc['Time']\n",
    "\n",
    "p = np.polyfit(x, y, 2)\n",
    "\n",
    "print(f'The equation is Time = {p[0]:.2f} * (F-R)/(F+R)**2 + {p[1]:.2f} * (F-R)/(F+R) + {p[2]:.2f}')"
   ]
  },
  {
   "cell_type": "code",
   "execution_count": null,
   "metadata": {},
   "outputs": [
    {
     "data": {
      "image/png": "[encoded data removed]",
      "text/plain": [
       "<Figure size 640x480 with 1 Axes>"
      ]
     },
     "metadata": {},
     "output_type": "display_data"
    }
   ],
   "source": [
    "x = df_calc['reversed_ratios']\n",
    "y = df_calc['Time']\n",
    "\n",
    "# Fit the curve to the data using numpy.polyfit\n",
    "p = np.polyfit(x, y, 2)\n",
    "\n",
    "# Define a range of values for (F-R)/(F+R)\n",
    "x_range = np.linspace(x.min(), x.max(), 100)\n",
    "\n",
    "# Evaluate the second order polynomial equation for each value in the range\n",
    "y_range = p[0]*x_range**2 + p[1]*x_range + p[2]\n",
    "\n",
    "# Plot the curve and the data points\n",
    "plt.plot(x_range, y_range, label='Second Order Polynomial')\n",
    "plt.scatter(x, y, color='red', label='Data Points')\n",
    "\n",
    "# Add axis labels and a legend\n",
    "plt.xlabel('(F-R)/(F+R)')\n",
    "plt.ylabel('Time')\n",
    "plt.legend()\n",
    "\n",
    "# Show the plot\n",
    "plt.show()"
   ]
  },
  {
   "attachments": {},
   "cell_type": "markdown",
   "metadata": {},
   "source": [
    "# Final"
   ]
  },
  {
   "attachments": {},
   "cell_type": "markdown",
   "metadata": {},
   "source": [
    "The Final Graph looks like this:"
   ]
  },
  {
   "cell_type": "code",
   "execution_count": null,
   "metadata": {},
   "outputs": [
    {
     "data": {
      "image/png": "[encoded data removed]",
      "text/plain": [
       "<Figure size 1000x400 with 2 Axes>"
      ]
     },
     "metadata": {},
     "output_type": "display_data"
    }
   ],
   "source": [
    "x = df_calc['(F-R)/(F+R)']\n",
    "y = df_calc['Time']\n",
    "\n",
    "# Fit the curve to the data using numpy.polyfit\n",
    "p = np.polyfit(x, y, 2)\n",
    "\n",
    "# Define a range of values for (F-R)/(F+R)\n",
    "x_range = np.linspace(x.min(), x.max(), 100)\n",
    "\n",
    "# Evaluate the second order polynomial equation for each value in the range\n",
    "y_range = p[0]*x_range**2 + p[1]*x_range + p[2]\n",
    "\n",
    "# Create a subplot with one row and two columns\n",
    "fig, axs = plt.subplots(1, 2, figsize=(10, 4))\n",
    "\n",
    "# Plot the first graph in the first column\n",
    "axs[0].plot(x_range, y_range, label='Second Order Polynomial')\n",
    "axs[0].scatter(x, y, color='red', label='Data Points')\n",
    "axs[0].set_xlabel('(F-R)/(F+R)')\n",
    "axs[0].set_ylabel('Time')\n",
    "axs[0].legend()\n",
    "\n",
    "# Create the second plot\n",
    "x = df_calc['reversed_ratios']\n",
    "y = df_calc['Time']\n",
    "\n",
    "# Fit the curve to the data using numpy.polyfit\n",
    "p = np.polyfit(x, y, 2)\n",
    "\n",
    "# Define a range of values for (F-R)/(F+R)\n",
    "x_range = np.linspace(x.min(), x.max(), 100)\n",
    "\n",
    "# Evaluate the second order polynomial equation for each value in the range\n",
    "y_range = p[0]*x_range**2 + p[1]*x_range + p[2]\n",
    "\n",
    "# Plot the curve and the data points in the second column\n",
    "axs[1].plot(x_range, y_range, label='Second Order Polynomial')\n",
    "axs[1].scatter(x, y, color='red', label='Data Points')\n",
    "axs[1].set_xlabel('Reversed Ratios')\n",
    "axs[1].set_ylabel('Time')\n",
    "axs[1].legend()\n",
    "\n",
    "# Show the plot\n",
    "plt.tight_layout()\n",
    "plt.show()\n"
   ]
  },
  {
   "cell_type": "code",
   "execution_count": null,
   "metadata": {},
   "outputs": [
    {
     "data": {
      "image/png": "[encoded data removed]",
      "text/plain": [
       "<Figure size 640x480 with 1 Axes>"
      ]
     },
     "metadata": {},
     "output_type": "display_data"
    }
   ],
   "source": [
    "# Create the first plot\n",
    "x = df_calc['(F-R)/(F+R)']\n",
    "y = df['Time']\n",
    "\n",
    "# Fit the curve to the data using numpy.polyfit\n",
    "p = np.polyfit(x, y, 2)\n",
    "\n",
    "# Define a range of values for (F-R)/(F+R)\n",
    "x_range = np.linspace(x.min(), x.max(), 100)\n",
    "\n",
    "# Evaluate the second order polynomial equation for each value in the range\n",
    "y_range = p[0]*x_range**2 + p[1]*x_range + p[2]\n",
    "\n",
    "# Plot the first graph\n",
    "plt.plot(x, y, 'ro', label='Data Points')\n",
    "plt.plot(x_range, y_range, 'r-', label='Second Order Polynomial')\n",
    "\n",
    "# Create the second plot\n",
    "x = df_calc['reversed_ratios']\n",
    "y = df_calc['Time']\n",
    "\n",
    "# Fit the curve to the data using numpy.polyfit\n",
    "p = np.polyfit(x, y, 2)\n",
    "\n",
    "# Define a range of values for reversed_ratios\n",
    "x_range = np.linspace(x.min(), x.max(), 100)\n",
    "\n",
    "# Evaluate the second order polynomial equation for each value in the range\n",
    "y_range = p[0]*x_range**2 + p[1]*x_range + p[2]\n",
    "\n",
    "# Plot the second graph\n",
    "plt.plot(x, y, 'bo', label='Data Points')\n",
    "plt.plot(x_range, y_range, 'b-', label='Second Order Polynomial')\n",
    "\n",
    "# Add axis labels and a legend\n",
    "plt.xlabel('(F-R)/(F+R) or Reversed Ratios')\n",
    "plt.ylabel('Time')\n",
    "plt.legend()\n",
    "\n",
    "# Show the plot\n",
    "plt.show()\n"
   ]
  },
  {
   "cell_type": "code",
   "execution_count": null,
   "metadata": {},
   "outputs": [
    {
     "name": "stdout",
     "output_type": "stream",
     "text": [
      "['pull', 'push', 'pull', 'push', 'push', 'push', 'push', 'pull', 'pull', 'push']\n"
     ]
    }
   ],
   "source": [
    "# Define the possible values\n",
    "values = [\"push\", \"pull\"]\n",
    "\n",
    "# Generate the array of 400 indexes with random values\n",
    "array = [random.choice(values) for i in range(10)]\n",
    "\n",
    "# Print the array\n",
    "print(array)\n"
   ]
  },
  {
   "cell_type": "code",
   "execution_count": null,
   "metadata": {},
   "outputs": [
    {
     "name": "stdout",
     "output_type": "stream",
     "text": [
      "  pull_push  time\n",
      "0      pull     0\n",
      "1      push     0\n",
      "2      pull     0\n",
      "3      push     0\n",
      "4      push     0\n",
      "5      push     0\n",
      "6      push     0\n",
      "7      pull     0\n",
      "8      pull     0\n",
      "9      push     0\n"
     ]
    }
   ],
   "source": [
    "import pandas as pd\n",
    "\n",
    "# Define the array\n",
    "arr = ['pull', 'push', 'pull', 'push', 'push', 'push', 'push', 'pull', 'pull', 'push']\n",
    "\n",
    "# Define the initial values for F and R\n",
    "F = 0\n",
    "R = 0\n",
    "\n",
    "# Define a list to store the time values\n",
    "times = []\n",
    "\n",
    "# Loop through the array and calculate the time values\n",
    "for i in range(len(arr)):\n",
    "    if F+R == 0:\n",
    "        time = 0\n",
    "    elif arr[i] == 'pull':\n",
    "        time = -7.83 * (F-R)/(F+R)**2 + 18.44 * (F-R)/(F+R) + 48.28\n",
    "        R += 1\n",
    "    else:\n",
    "        time = -7.83 * (F-R)/(F+R)**2 - 18.44 * (F-R)/(F+R) + 48.28\n",
    "        F += 1\n",
    "    times.append(time)\n",
    "\n",
    "# Create a Pandas DataFrame with the array and time values\n",
    "df = pd.DataFrame({'pull_push': arr, 'time': times})\n",
    "\n",
    "# Print the DataFrame\n",
    "print(df)\n"
   ]
  },
  {
   "cell_type": "code",
   "execution_count": null,
   "metadata": {},
   "outputs": [],
   "source": [
    "def push_equation1(F,R):\n",
    "    time = -7.83 * (F-R)/(F+R)**2 - 18.44 * (F-R)/(F+R) + 48.28\n",
    "    return(time)\n",
    "\n",
    "def pull_equation2(F,R):\n",
    "    time = -7.83 * (F-R)/(F+R)**2 + 18.44 * (F-R)/(F+R) + 48.28\n",
    "    return(time)"
   ]
  },
  {
   "cell_type": "code",
   "execution_count": null,
   "metadata": {},
   "outputs": [
    {
     "data": {
      "text/plain": [
       "22.009999999999998"
      ]
     },
     "execution_count": 48,
     "metadata": {},
     "output_type": "execute_result"
    }
   ],
   "source": [
    "push_equation1(1,0)"
   ]
  },
  {
   "cell_type": "code",
   "execution_count": null,
   "metadata": {},
   "outputs": [
    {
     "name": "stdout",
     "output_type": "stream",
     "text": [
      "  pull_push       time\n",
      "0      pull  48.280000\n",
      "1      push  48.280000\n",
      "2      pull  48.280000\n",
      "3      push  48.280000\n",
      "4      push  44.278800\n",
      "5      push  41.698333\n",
      "6      push  39.897755\n",
      "7      pull  54.827969\n",
      "8      pull  52.184444\n",
      "9      push  44.435400\n"
     ]
    }
   ],
   "source": [
    "import pandas as pd\n",
    "\n",
    "# Define the array\n",
    "arr = ['pull', 'push', 'pull', 'push', 'push', 'push', 'push', 'pull', 'pull', 'push']\n",
    "\n",
    "# Define the initial values for F and R\n",
    "F = 0\n",
    "R = 0\n",
    "\n",
    "# Define a list to store the time values\n",
    "times = []\n",
    "\n",
    "# Loop through the array and calculate the time values\n",
    "for i in range(len(arr)):\n",
    "    if arr[i] == 'pull':\n",
    "        time = -7.83 * (F-R)/(F+R+1)**2 + 18.44 * (F-R)/(F+R+1) + 48.28\n",
    "        R += 1\n",
    "    else:\n",
    "        time = -7.83 * (F+1-R)/(F+R+1)**2 - 18.44 * (F+1-R)/(F+R+1) + 48.28\n",
    "        F += 1\n",
    "    times.append(time)\n",
    "\n",
    "# Create a Pandas DataFrame with the array and time values\n",
    "df = pd.DataFrame({'pull_push': arr, 'time': times})\n",
    "\n",
    "# Print the DataFrame\n",
    "print(df)\n"
   ]
  },
  {
   "cell_type": "markdown",
   "metadata": {},
   "source": [
    "## The Equations + Testing"
   ]
  },
  {
   "cell_type": "code",
   "execution_count": null,
   "metadata": {},
   "outputs": [],
   "source": [
    "def pull_equation(F,R):\n",
    "    time = -7.83 * (F-R)/(F+R+1)**2 + 18.44 * (F-R)/(F+R+1) + 48.28\n",
    "    return(time)"
   ]
  },
  {
   "cell_type": "code",
   "execution_count": null,
   "metadata": {},
   "outputs": [],
   "source": [
    "def push_equation(F,R):\n",
    "    time = -7.83 * (F+1-R)/(F+R+1)**2 - 18.44 * (F+1-R)/(F+R+1) + 48.28\n",
    "    return(time)"
   ]
  },
  {
   "cell_type": "code",
   "execution_count": null,
   "metadata": {},
   "outputs": [
    {
     "data": {
      "text/plain": [
       "28.86125"
      ]
     },
     "execution_count": 42,
     "metadata": {},
     "output_type": "execute_result"
    }
   ],
   "source": [
    "# Mouse decides to start with 7 pushes\n",
    "\n",
    "push_equation(7,0)"
   ]
  },
  {
   "cell_type": "code",
   "execution_count": null,
   "metadata": {},
   "outputs": [
    {
     "data": {
      "text/plain": [
       "59.99333333333334"
      ]
     },
     "execution_count": 43,
     "metadata": {},
     "output_type": "execute_result"
    }
   ],
   "source": [
    "# Now it does a pull\n",
    "\n",
    "pull_equation(7,1)"
   ]
  },
  {
   "cell_type": "code",
   "execution_count": null,
   "metadata": {},
   "outputs": [
    {
     "data": {
      "text/plain": [
       "45.48591836734694"
      ]
     },
     "execution_count": 46,
     "metadata": {},
     "output_type": "execute_result"
    }
   ],
   "source": [
    "push_equation(3,3)"
   ]
  },
  {
   "cell_type": "code",
   "execution_count": null,
   "metadata": {},
   "outputs": [
    {
     "data": {
      "text/plain": [
       "25.925"
      ]
     },
     "execution_count": 49,
     "metadata": {},
     "output_type": "execute_result"
    }
   ],
   "source": [
    "push_equation(1,0)"
   ]
  },
  {
   "cell_type": "code",
   "execution_count": null,
   "metadata": {},
   "outputs": [
    {
     "data": {
      "text/plain": [
       "48.28"
      ]
     },
     "execution_count": 50,
     "metadata": {},
     "output_type": "execute_result"
    }
   ],
   "source": [
    "pull_equation(1,1)"
   ]
  },
  {
   "cell_type": "code",
   "execution_count": null,
   "metadata": {},
   "outputs": [
    {
     "data": {
      "text/plain": [
       "38.08125"
      ]
     },
     "execution_count": 52,
     "metadata": {},
     "output_type": "execute_result"
    }
   ],
   "source": [
    "push_equation(2,1)"
   ]
  },
  {
   "cell_type": "code",
   "execution_count": null,
   "metadata": {},
   "outputs": [
    {
     "data": {
      "text/plain": [
       "36.276399999999995"
      ]
     },
     "execution_count": 53,
     "metadata": {},
     "output_type": "execute_result"
    }
   ],
   "source": [
    "push_equation(3,1)"
   ]
  },
  {
   "cell_type": "code",
   "execution_count": null,
   "metadata": {},
   "outputs": [
    {
     "data": {
      "text/plain": [
       "35.11666666666667"
      ]
     },
     "execution_count": 54,
     "metadata": {},
     "output_type": "execute_result"
    }
   ],
   "source": [
    "push_equation(4,1)"
   ]
  },
  {
   "cell_type": "code",
   "execution_count": null,
   "metadata": {},
   "outputs": [
    {
     "data": {
      "text/plain": [
       "53.22897959183673"
      ]
     },
     "execution_count": 55,
     "metadata": {},
     "output_type": "execute_result"
    }
   ],
   "source": [
    "pull_equation(4,2)"
   ]
  },
  {
   "cell_type": "code",
   "execution_count": null,
   "metadata": {},
   "outputs": [],
   "source": []
  }
 ],
 "metadata": {
  "kernelspec": {
   "display_name": "base",
   "language": "python",
   "name": "python3"
  },
  "language_info": {
   "codemirror_mode": {
    "name": "ipython",
    "version": 3
   },
   "file_extension": ".py",
   "mimetype": "text/x-python",
   "name": "python",
   "nbconvert_exporter": "python",
   "pygments_lexer": "ipython3",
   "version": "3.9.13"
  },
  "orig_nbformat": 4
 },
 "nbformat": 4,
 "nbformat_minor": 2
}
