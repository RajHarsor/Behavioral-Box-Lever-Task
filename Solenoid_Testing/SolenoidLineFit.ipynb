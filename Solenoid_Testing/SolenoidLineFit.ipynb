{
 "cells": [
  {
   "cell_type": "code",
   "execution_count": 83,
   "metadata": {},
   "outputs": [],
   "source": [
    "from scipy.optimize import curve_fit\n",
    "import pandas as pd\n",
    "import numpy as np\n",
    "import matplotlib\n",
    "import matplotlib.pyplot as plt\n",
    "import seaborn as sns\n",
    "from numpy import arange\n",
    "from numpy import random"
   ]
  },
  {
   "cell_type": "code",
   "execution_count": 84,
   "metadata": {},
   "outputs": [
    {
     "data": {
      "text/html": [
       "<div>\n",
       "<style scoped>\n",
       "    .dataframe tbody tr th:only-of-type {\n",
       "        vertical-align: middle;\n",
       "    }\n",
       "\n",
       "    .dataframe tbody tr th {\n",
       "        vertical-align: top;\n",
       "    }\n",
       "\n",
       "    .dataframe thead th {\n",
       "        text-align: right;\n",
       "    }\n",
       "</style>\n",
       "<table border=\"1\" class=\"dataframe\">\n",
       "  <thead>\n",
       "    <tr style=\"text-align: right;\">\n",
       "      <th></th>\n",
       "      <th>Time</th>\n",
       "      <th>ul</th>\n",
       "    </tr>\n",
       "  </thead>\n",
       "  <tbody>\n",
       "    <tr>\n",
       "      <th>0</th>\n",
       "      <td>22</td>\n",
       "      <td>2.0</td>\n",
       "    </tr>\n",
       "    <tr>\n",
       "      <th>1</th>\n",
       "      <td>44</td>\n",
       "      <td>4.3</td>\n",
       "    </tr>\n",
       "    <tr>\n",
       "      <th>2</th>\n",
       "      <td>52</td>\n",
       "      <td>6.1</td>\n",
       "    </tr>\n",
       "    <tr>\n",
       "      <th>3</th>\n",
       "      <td>60</td>\n",
       "      <td>9.1</td>\n",
       "    </tr>\n",
       "  </tbody>\n",
       "</table>\n",
       "</div>"
      ],
      "text/plain": [
       "   Time   ul\n",
       "0    22  2.0\n",
       "1    44  4.3\n",
       "2    52  6.1\n",
       "3    60  9.1"
      ]
     },
     "execution_count": 84,
     "metadata": {},
     "output_type": "execute_result"
    }
   ],
   "source": [
    "# Importing data and finding averages\n",
    "\n",
    "df2= pd.read_csv(r\"C:\\Users\\rdh92\\Downloads\\DataImportLeeSolenoidTesting2.csv\")\n",
    "df_calc = df2.groupby('Time').mean().reset_index()\n",
    "df_calc = df_calc.sort_values('ul', ascending=True)\n",
    "df_calc"
   ]
  },
  {
   "cell_type": "code",
   "execution_count": 85,
   "metadata": {},
   "outputs": [
    {
     "data": {
      "text/plain": [
       "<matplotlib.collections.PathCollection at 0x1d7546c4a90>"
      ]
     },
     "execution_count": 85,
     "metadata": {},
     "output_type": "execute_result"
    },
    {
     "data": {
      "image/png": "[encoded data removed]",
      "text/plain": [
       "<Figure size 432x288 with 1 Axes>"
      ]
     },
     "metadata": {
      "needs_background": "light"
     },
     "output_type": "display_data"
    }
   ],
   "source": [
    "# Plotting Time vs ul\n",
    "\n",
    "x, y = df_calc['Time'], df_calc['ul']\n",
    "plt.scatter(x , y)"
   ]
  },
  {
   "cell_type": "code",
   "execution_count": 86,
   "metadata": {},
   "outputs": [
    {
     "name": "stdout",
     "output_type": "stream",
     "text": [
      "y = 0.17391 * x + -2.36401\n"
     ]
    }
   ],
   "source": [
    "## Linear Fit Model Equation + Graph\n",
    "\n",
    "def objective(x, a, b):\n",
    "\treturn a * x + b\n",
    "popt, _ = curve_fit(objective, x, y)\n",
    "a, b = popt\n",
    "print('y = %.5f * x + %.5f' % (a, b))"
   ]
  },
  {
   "cell_type": "code",
   "execution_count": 87,
   "metadata": {},
   "outputs": [
    {
     "data": {
      "text/plain": [
       "[<matplotlib.lines.Line2D at 0x1d754727970>]"
      ]
     },
     "execution_count": 87,
     "metadata": {},
     "output_type": "execute_result"
    },
    {
     "data": {
      "image/png": "[encoded data removed]",
      "text/plain": [
       "<Figure size 432x288 with 1 Axes>"
      ]
     },
     "metadata": {
      "needs_background": "light"
     },
     "output_type": "display_data"
    }
   ],
   "source": [
    "x_line = arange(min(x), max(x), 1)\n",
    "y_line = objective(x_line, a, b)\n",
    "plt.plot(x_line, y_line, '--', color='red')"
   ]
  },
  {
   "cell_type": "code",
   "execution_count": 88,
   "metadata": {},
   "outputs": [
    {
     "data": {
      "image/png": "[encoded data removed]",
      "text/plain": [
       "<Figure size 432x288 with 1 Axes>"
      ]
     },
     "metadata": {
      "needs_background": "light"
     },
     "output_type": "display_data"
    }
   ],
   "source": [
    "plt.plot(x_line, y_line, '--', color='red')\n",
    "plt.scatter(x = 'Time', y = 'ul', data = df_calc)\n",
    "plt.show()\n",
    "## y = 0.17391 * x + -2.36401"
   ]
  },
  {
   "cell_type": "code",
   "execution_count": 89,
   "metadata": {},
   "outputs": [
    {
     "name": "stdout",
     "output_type": "stream",
     "text": [
      "y = -0.25582 * x + 0.00537 * x^2 + 5.04026\n"
     ]
    }
   ],
   "source": [
    "## Equation and Graph for Second Order Polynomial Model - Time vs ul\n",
    "\n",
    "def objective(x, a, b, c):\n",
    " return a * x + b * x**2 + c\n",
    "popt, _ = curve_fit(objective, x, y)\n",
    "a, b, c = popt\n",
    "print('y = %.5f * x + %.5f * x^2 + %.5f' % (a, b, c))"
   ]
  },
  {
   "cell_type": "code",
   "execution_count": 90,
   "metadata": {},
   "outputs": [],
   "source": [
    "x_line = arange(min(x), max(x), 1)\n",
    "y_line = objective(x_line, a, b, c)"
   ]
  },
  {
   "cell_type": "code",
   "execution_count": 91,
   "metadata": {},
   "outputs": [
    {
     "data": {
      "image/png": "[encoded data removed]",
      "text/plain": [
       "<Figure size 432x288 with 1 Axes>"
      ]
     },
     "metadata": {
      "needs_background": "light"
     },
     "output_type": "display_data"
    }
   ],
   "source": [
    "plt.plot(x_line, y_line, '--', color='red')\n",
    "plt.scatter(x = 'Time', y = 'ul', data = df_calc)\n",
    "plt.show()"
   ]
  },
  {
   "cell_type": "code",
   "execution_count": 92,
   "metadata": {},
   "outputs": [],
   "source": [
    "def equation(x):\n",
    "    y = (48.69091 * x) + (-10.90909 * x**2) + 22.05455\n",
    "    return (y)"
   ]
  },
  {
   "cell_type": "code",
   "execution_count": 93,
   "metadata": {},
   "outputs": [],
   "source": [
    "## Adding Ratios\n",
    "\n",
    "ratios = [0, 0.33, 0.67, 1]\n",
    "df_calc['Ratios'] = ratios\n"
   ]
  },
  {
   "cell_type": "code",
   "execution_count": 94,
   "metadata": {},
   "outputs": [
    {
     "name": "stdout",
     "output_type": "stream",
     "text": [
      "y = 68.16042 * x + -31.65988 * x^2 + 22.74973\n"
     ]
    }
   ],
   "source": [
    "# Push Equation w/ Ratios\n",
    "\n",
    "x, y = df_calc['Ratios'], df_calc['Time']\n",
    "\n",
    "def objective(x, a, b, c):\n",
    " return a * x + b * x**2 + c\n",
    "popt, _ = curve_fit(objective, x, y)\n",
    "a, b, c = popt\n",
    "print('y = %.5f * x + %.5f * x^2 + %.5f' % (a, b, c))"
   ]
  },
  {
   "cell_type": "code",
   "execution_count": 95,
   "metadata": {},
   "outputs": [],
   "source": [
    "x_line = arange(min(x), max(x), 1)\n",
    "y_line = objective(x_line, a, b, c)"
   ]
  },
  {
   "cell_type": "code",
   "execution_count": 96,
   "metadata": {},
   "outputs": [
    {
     "data": {
      "text/html": [
       "<div>\n",
       "<style scoped>\n",
       "    .dataframe tbody tr th:only-of-type {\n",
       "        vertical-align: middle;\n",
       "    }\n",
       "\n",
       "    .dataframe tbody tr th {\n",
       "        vertical-align: top;\n",
       "    }\n",
       "\n",
       "    .dataframe thead th {\n",
       "        text-align: right;\n",
       "    }\n",
       "</style>\n",
       "<table border=\"1\" class=\"dataframe\">\n",
       "  <thead>\n",
       "    <tr style=\"text-align: right;\">\n",
       "      <th></th>\n",
       "      <th>Time</th>\n",
       "      <th>ul</th>\n",
       "      <th>Ratios</th>\n",
       "    </tr>\n",
       "  </thead>\n",
       "  <tbody>\n",
       "    <tr>\n",
       "      <th>0</th>\n",
       "      <td>22</td>\n",
       "      <td>2.0</td>\n",
       "      <td>0.00</td>\n",
       "    </tr>\n",
       "    <tr>\n",
       "      <th>1</th>\n",
       "      <td>44</td>\n",
       "      <td>4.3</td>\n",
       "      <td>0.33</td>\n",
       "    </tr>\n",
       "    <tr>\n",
       "      <th>2</th>\n",
       "      <td>52</td>\n",
       "      <td>6.1</td>\n",
       "      <td>0.67</td>\n",
       "    </tr>\n",
       "    <tr>\n",
       "      <th>3</th>\n",
       "      <td>60</td>\n",
       "      <td>9.1</td>\n",
       "      <td>1.00</td>\n",
       "    </tr>\n",
       "  </tbody>\n",
       "</table>\n",
       "</div>"
      ],
      "text/plain": [
       "   Time   ul  Ratios\n",
       "0    22  2.0    0.00\n",
       "1    44  4.3    0.33\n",
       "2    52  6.1    0.67\n",
       "3    60  9.1    1.00"
      ]
     },
     "execution_count": 96,
     "metadata": {},
     "output_type": "execute_result"
    }
   ],
   "source": [
    "df_calc"
   ]
  },
  {
   "cell_type": "code",
   "execution_count": 97,
   "metadata": {},
   "outputs": [
    {
     "data": {
      "image/png": "[encoded data removed]",
      "text/plain": [
       "<Figure size 432x288 with 1 Axes>"
      ]
     },
     "metadata": {
      "needs_background": "light"
     },
     "output_type": "display_data"
    }
   ],
   "source": [
    "## Push Equation Graph\n",
    "\n",
    "plt.plot(x_line, y_line, '--', color='red')\n",
    "plt.scatter(x = 'Ratios', y = 'Time', data = df_calc)\n",
    "plt.show()"
   ]
  },
  {
   "cell_type": "code",
   "execution_count": 98,
   "metadata": {},
   "outputs": [
    {
     "data": {
      "text/html": [
       "<div>\n",
       "<style scoped>\n",
       "    .dataframe tbody tr th:only-of-type {\n",
       "        vertical-align: middle;\n",
       "    }\n",
       "\n",
       "    .dataframe tbody tr th {\n",
       "        vertical-align: top;\n",
       "    }\n",
       "\n",
       "    .dataframe thead th {\n",
       "        text-align: right;\n",
       "    }\n",
       "</style>\n",
       "<table border=\"1\" class=\"dataframe\">\n",
       "  <thead>\n",
       "    <tr style=\"text-align: right;\">\n",
       "      <th></th>\n",
       "      <th>Time</th>\n",
       "      <th>ul</th>\n",
       "      <th>Ratios</th>\n",
       "    </tr>\n",
       "  </thead>\n",
       "  <tbody>\n",
       "    <tr>\n",
       "      <th>0</th>\n",
       "      <td>22</td>\n",
       "      <td>2.0</td>\n",
       "      <td>1.00</td>\n",
       "    </tr>\n",
       "    <tr>\n",
       "      <th>1</th>\n",
       "      <td>44</td>\n",
       "      <td>4.3</td>\n",
       "      <td>0.67</td>\n",
       "    </tr>\n",
       "    <tr>\n",
       "      <th>2</th>\n",
       "      <td>52</td>\n",
       "      <td>6.1</td>\n",
       "      <td>0.33</td>\n",
       "    </tr>\n",
       "    <tr>\n",
       "      <th>3</th>\n",
       "      <td>60</td>\n",
       "      <td>9.1</td>\n",
       "      <td>0.00</td>\n",
       "    </tr>\n",
       "  </tbody>\n",
       "</table>\n",
       "</div>"
      ],
      "text/plain": [
       "   Time   ul  Ratios\n",
       "0    22  2.0    1.00\n",
       "1    44  4.3    0.67\n",
       "2    52  6.1    0.33\n",
       "3    60  9.1    0.00"
      ]
     },
     "execution_count": 98,
     "metadata": {},
     "output_type": "execute_result"
    }
   ],
   "source": [
    "## Inverse Equation - Pull Equation w/ Ratios\n",
    "\n",
    "ratios = [1, 0.67, 0.33, 0]\n",
    "df_calc['Ratios'] = ratios\n",
    "df_calc"
   ]
  },
  {
   "cell_type": "code",
   "execution_count": 99,
   "metadata": {},
   "outputs": [
    {
     "data": {
      "text/plain": [
       "<matplotlib.collections.PathCollection at 0x1d7546a7490>"
      ]
     },
     "execution_count": 99,
     "metadata": {},
     "output_type": "execute_result"
    },
    {
     "data": {
      "image/png": "[encoded data removed]",
      "text/plain": [
       "<Figure size 432x288 with 1 Axes>"
      ]
     },
     "metadata": {
      "needs_background": "light"
     },
     "output_type": "display_data"
    }
   ],
   "source": [
    "x, y = df_calc['Ratios'], df_calc['Time']\n",
    "plt.scatter(df_calc['Ratios'], df_calc['Time'])"
   ]
  },
  {
   "cell_type": "code",
   "execution_count": 100,
   "metadata": {},
   "outputs": [
    {
     "name": "stdout",
     "output_type": "stream",
     "text": [
      "y = -4.84065 * x + -31.65988 * x^2 + 59.25027\n"
     ]
    }
   ],
   "source": [
    "## Equation for inverse plot above - Pull Equation\n",
    "def objective(x, a, b, c):\n",
    " return a * x + b * x**2 + c\n",
    "popt, _ = curve_fit(objective, x, y)\n",
    "a, b, c = popt\n",
    "print('y = %.5f * x + %.5f * x^2 + %.5f' % (a, b, c))"
   ]
  },
  {
   "cell_type": "code",
   "execution_count": 101,
   "metadata": {},
   "outputs": [
    {
     "data": {
      "text/plain": [
       "59.25027"
      ]
     },
     "execution_count": 101,
     "metadata": {},
     "output_type": "execute_result"
    }
   ],
   "source": [
    "## Testing both Equations \n",
    "\n",
    "## For example if the ratio is 3 pushes : 4 pulls and the mouse does a pull we would use the first equation (y = 68.16042 * x + -31.65988 * x^2 + 22.74973)\n",
    "## Ratio = 4 pushes to 4 pulls\n",
    "\n",
    "def push_equation(x):\n",
    "    y = 68.16042 * x + -31.65988 * x**2 + 22.74973\n",
    "    return(y)\n",
    "push_equation(float(4/4))"
   ]
  },
  {
   "cell_type": "code",
   "execution_count": 102,
   "metadata": {},
   "outputs": [
    {
     "data": {
      "text/plain": [
       "22.749740000000003"
      ]
     },
     "execution_count": 102,
     "metadata": {},
     "output_type": "execute_result"
    }
   ],
   "source": [
    "## Now testing the push equation for a 1:1 ratio - ration is 3 pushes to 4 pulls and mouse does a push\n",
    "def pull_equation(x):\n",
    "    y = -4.84065 * x + -31.65988 * x**2 + 59.25027\n",
    "    return(y)\n",
    "\n",
    "pull_equation(1/1)"
   ]
  },
  {
   "cell_type": "code",
   "execution_count": 103,
   "metadata": {},
   "outputs": [
    {
     "data": {
      "text/plain": [
       "32.261445699999996"
      ]
     },
     "execution_count": 103,
     "metadata": {},
     "output_type": "execute_result"
    }
   ],
   "source": [
    "## Lets say that a mouse is doing a lot of pushes and then switches to a pull --> for the pushes he does 20 pushes with 3 pulls\n",
    "\n",
    "push_equation(3/20)"
   ]
  },
  {
   "cell_type": "code",
   "execution_count": 104,
   "metadata": {},
   "outputs": [
    {
     "data": {
      "text/plain": [
       "57.0157448"
      ]
     },
     "execution_count": 104,
     "metadata": {},
     "output_type": "execute_result"
    }
   ],
   "source": [
    "### The the mouse decides to throw a pull into the mix --> 20 pushes with 4 pulls\n",
    "\n",
    "pull_equation(4/20)"
   ]
  },
  {
   "cell_type": "code",
   "execution_count": 105,
   "metadata": {},
   "outputs": [
    {
     "data": {
      "text/plain": [
       "56.061365"
      ]
     },
     "execution_count": 105,
     "metadata": {},
     "output_type": "execute_result"
    }
   ],
   "source": [
    "### And then another pull --> 20 pushes 5 pulls\n",
    "\n",
    "pull_equation(5/20)\n",
    "\n",
    "## something is wrong here, the number should be going up"
   ]
  },
  {
   "cell_type": "code",
   "execution_count": 106,
   "metadata": {},
   "outputs": [
    {
     "data": {
      "text/plain": [
       "37.18362365079365"
      ]
     },
     "execution_count": 106,
     "metadata": {},
     "output_type": "execute_result"
    }
   ],
   "source": [
    "## Lets say now it does a push --> 21 pushes 5 pulls\n",
    "\n",
    "push_equation(5/21)"
   ]
  },
  {
   "attachments": {},
   "cell_type": "markdown",
   "metadata": {},
   "source": [
    "New Equation me and Ian Discussed"
   ]
  },
  {
   "cell_type": "code",
   "execution_count": 107,
   "metadata": {},
   "outputs": [
    {
     "data": {
      "text/html": [
       "<div>\n",
       "<style scoped>\n",
       "    .dataframe tbody tr th:only-of-type {\n",
       "        vertical-align: middle;\n",
       "    }\n",
       "\n",
       "    .dataframe tbody tr th {\n",
       "        vertical-align: top;\n",
       "    }\n",
       "\n",
       "    .dataframe thead th {\n",
       "        text-align: right;\n",
       "    }\n",
       "</style>\n",
       "<table border=\"1\" class=\"dataframe\">\n",
       "  <thead>\n",
       "    <tr style=\"text-align: right;\">\n",
       "      <th></th>\n",
       "      <th>Time</th>\n",
       "      <th>ul</th>\n",
       "      <th>Ratios</th>\n",
       "    </tr>\n",
       "  </thead>\n",
       "  <tbody>\n",
       "    <tr>\n",
       "      <th>0</th>\n",
       "      <td>22</td>\n",
       "      <td>2.0</td>\n",
       "      <td>1.00</td>\n",
       "    </tr>\n",
       "    <tr>\n",
       "      <th>1</th>\n",
       "      <td>44</td>\n",
       "      <td>4.3</td>\n",
       "      <td>0.67</td>\n",
       "    </tr>\n",
       "    <tr>\n",
       "      <th>2</th>\n",
       "      <td>52</td>\n",
       "      <td>6.1</td>\n",
       "      <td>0.33</td>\n",
       "    </tr>\n",
       "    <tr>\n",
       "      <th>3</th>\n",
       "      <td>60</td>\n",
       "      <td>9.1</td>\n",
       "      <td>0.00</td>\n",
       "    </tr>\n",
       "  </tbody>\n",
       "</table>\n",
       "</div>"
      ],
      "text/plain": [
       "   Time   ul  Ratios\n",
       "0    22  2.0    1.00\n",
       "1    44  4.3    0.67\n",
       "2    52  6.1    0.33\n",
       "3    60  9.1    0.00"
      ]
     },
     "execution_count": 107,
     "metadata": {},
     "output_type": "execute_result"
    }
   ],
   "source": [
    "df_calc"
   ]
  },
  {
   "cell_type": "code",
   "execution_count": 108,
   "metadata": {},
   "outputs": [],
   "source": [
    "## Set alpha = 3\n",
    "## beta = 2 (minimum amount of water for solenoid open time)\n",
    "\n",
    "## Solenoid open time = alpha * (1-((F-R)/(F+R))) + beta\n",
    "\n",
    "def function(alpha, beta, F, R):\n",
    "    open_time = alpha * (1-((F-R)/(F+R))) + beta\n",
    "    return(open_time)\n",
    "\n",
    "#TODO Make this model a non-linear model instead of linear one"
   ]
  },
  {
   "cell_type": "code",
   "execution_count": 109,
   "metadata": {},
   "outputs": [
    {
     "data": {
      "text/plain": [
       "26.0"
      ]
     },
     "execution_count": 109,
     "metadata": {},
     "output_type": "execute_result"
    }
   ],
   "source": [
    "function(4, 22, 10, 10)\n",
    "#TODO This should equal to 22 but it is not for some reason, need to investigate why"
   ]
  },
  {
   "cell_type": "code",
   "execution_count": 110,
   "metadata": {},
   "outputs": [],
   "source": [
    "# F/R \n",
    "\n",
    "ratios = [0, 1, 0.67, 1]\n",
    "df_calc['Ratios'] = ratios"
   ]
  }
 ],
 "metadata": {
  "kernelspec": {
   "display_name": "base",
   "language": "python",
   "name": "python3"
  },
  "language_info": {
   "codemirror_mode": {
    "name": "ipython",
    "version": 3
   },
   "file_extension": ".py",
   "mimetype": "text/x-python",
   "name": "python",
   "nbconvert_exporter": "python",
   "pygments_lexer": "ipython3",
   "version": "3.8.5"
  },
  "orig_nbformat": 4,
  "vscode": {
   "interpreter": {
    "hash": "4435fd9948f7df9f5670714d1270bf84ef6a4dd2c6b749fb0e56001bdb6a1d23"
   }
  }
 },
 "nbformat": 4,
 "nbformat_minor": 2
}
