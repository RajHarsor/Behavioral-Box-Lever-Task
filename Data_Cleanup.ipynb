{
 "cells": [
  {
   "cell_type": "code",
   "execution_count": 90,
   "metadata": {},
   "outputs": [],
   "source": [
    "import pandas as pd"
   ]
  },
  {
   "cell_type": "code",
   "execution_count": 91,
   "metadata": {},
   "outputs": [
    {
     "name": "stdout",
     "output_type": "stream",
     "text": [
      "                Putty\n",
      "0   Trial Number = 1 \n",
      "1    x = 600, y = 483\n",
      "2                Push\n",
      "3   Trial Number = 2 \n",
      "4    x = 600, y = 439\n",
      "5                Push\n",
      "6   Trial Number = 3 \n",
      "7    x = 600, y = 494\n",
      "8                Push\n",
      "9   Trial Number = 4 \n",
      "10   x = 250, y = 434\n",
      "11               Pull\n",
      "12  Trial Number = 5 \n",
      "13   x = 600, y = 569\n",
      "14               Push\n",
      "15  Trial Number = 6 \n",
      "16   x = 511, y = 525\n",
      "17             Failed\n",
      "18  Trial Number = 7 \n",
      "19   x = 601, y = 575\n",
      "20               Push\n",
      "21  Trial Number = 8 \n",
      "22   x = 250, y = 376\n",
      "23               Pull\n",
      "24   Trial Number = 9\n"
     ]
    }
   ],
   "source": [
    "df = pd.read_csv(r'/Users/rajharsora/Documents/Test1.csv')\n",
    "print(df)"
   ]
  },
  {
   "cell_type": "code",
   "execution_count": 92,
   "metadata": {},
   "outputs": [
    {
     "name": "stdout",
     "output_type": "stream",
     "text": [
      "                Putty\n",
      "0   Trial Number = 1 \n",
      "3   Trial Number = 2 \n",
      "6   Trial Number = 3 \n",
      "9   Trial Number = 4 \n",
      "12  Trial Number = 5 \n",
      "15  Trial Number = 6 \n",
      "18  Trial Number = 7 \n",
      "21  Trial Number = 8 \n",
      "24   Trial Number = 9\n",
      "               Putty\n",
      "1   x = 600, y = 483\n",
      "4   x = 600, y = 439\n",
      "7   x = 600, y = 494\n",
      "10  x = 250, y = 434\n",
      "13  x = 600, y = 569\n",
      "16  x = 511, y = 525\n",
      "19  x = 601, y = 575\n",
      "22  x = 250, y = 376\n",
      "     Putty\n",
      "2     Push\n",
      "5     Push\n",
      "8     Push\n",
      "11    Pull\n",
      "14    Push\n",
      "17  Failed\n",
      "20    Push\n",
      "23    Pull\n"
     ]
    },
    {
     "data": {
      "text/plain": [
       "(None, None, None)"
      ]
     },
     "execution_count": 92,
     "metadata": {},
     "output_type": "execute_result"
    }
   ],
   "source": [
    "print(df[::3]) , print(df[1::3]), print(df[2::3])"
   ]
  },
  {
   "cell_type": "code",
   "execution_count": 95,
   "metadata": {},
   "outputs": [],
   "source": [
    "df1 = (df[::3])\n",
    "df2 = (df[1::3])\n",
    "df3 = (df[2::3])"
   ]
  },
  {
   "cell_type": "code",
   "execution_count": 96,
   "metadata": {},
   "outputs": [],
   "source": [
    "df1.index.name = 'trial_number'"
   ]
  },
  {
   "cell_type": "code",
   "execution_count": 97,
   "metadata": {},
   "outputs": [],
   "source": [
    "df2.index.name = 'coordinates'"
   ]
  },
  {
   "cell_type": "code",
   "execution_count": 102,
   "metadata": {},
   "outputs": [],
   "source": [
    "df1.index.name = 'position'"
   ]
  },
  {
   "cell_type": "code",
   "execution_count": 105,
   "metadata": {},
   "outputs": [
    {
     "data": {
      "text/html": [
       "<div>\n",
       "<style scoped>\n",
       "    .dataframe tbody tr th:only-of-type {\n",
       "        vertical-align: middle;\n",
       "    }\n",
       "\n",
       "    .dataframe tbody tr th {\n",
       "        vertical-align: top;\n",
       "    }\n",
       "\n",
       "    .dataframe thead th {\n",
       "        text-align: right;\n",
       "    }\n",
       "</style>\n",
       "<table border=\"1\" class=\"dataframe\">\n",
       "  <thead>\n",
       "    <tr style=\"text-align: right;\">\n",
       "      <th></th>\n",
       "      <th>Putty</th>\n",
       "    </tr>\n",
       "  </thead>\n",
       "  <tbody>\n",
       "    <tr>\n",
       "      <th>0</th>\n",
       "      <td>Trial Number = 1</td>\n",
       "    </tr>\n",
       "    <tr>\n",
       "      <th>1</th>\n",
       "      <td>Trial Number = 2</td>\n",
       "    </tr>\n",
       "    <tr>\n",
       "      <th>2</th>\n",
       "      <td>Trial Number = 3</td>\n",
       "    </tr>\n",
       "    <tr>\n",
       "      <th>3</th>\n",
       "      <td>Trial Number = 4</td>\n",
       "    </tr>\n",
       "    <tr>\n",
       "      <th>4</th>\n",
       "      <td>Trial Number = 5</td>\n",
       "    </tr>\n",
       "    <tr>\n",
       "      <th>5</th>\n",
       "      <td>Trial Number = 6</td>\n",
       "    </tr>\n",
       "    <tr>\n",
       "      <th>6</th>\n",
       "      <td>Trial Number = 7</td>\n",
       "    </tr>\n",
       "    <tr>\n",
       "      <th>7</th>\n",
       "      <td>Trial Number = 8</td>\n",
       "    </tr>\n",
       "    <tr>\n",
       "      <th>8</th>\n",
       "      <td>Trial Number = 9</td>\n",
       "    </tr>\n",
       "  </tbody>\n",
       "</table>\n",
       "</div>"
      ],
      "text/plain": [
       "               Putty\n",
       "0  Trial Number = 1 \n",
       "1  Trial Number = 2 \n",
       "2  Trial Number = 3 \n",
       "3  Trial Number = 4 \n",
       "4  Trial Number = 5 \n",
       "5  Trial Number = 6 \n",
       "6  Trial Number = 7 \n",
       "7  Trial Number = 8 \n",
       "8   Trial Number = 9"
      ]
     },
     "execution_count": 105,
     "metadata": {},
     "output_type": "execute_result"
    }
   ],
   "source": [
    "df1 = df1.reset_index(drop = True)\n",
    "df1"
   ]
  },
  {
   "cell_type": "code",
   "execution_count": 108,
   "metadata": {},
   "outputs": [
    {
     "data": {
      "text/html": [
       "<div>\n",
       "<style scoped>\n",
       "    .dataframe tbody tr th:only-of-type {\n",
       "        vertical-align: middle;\n",
       "    }\n",
       "\n",
       "    .dataframe tbody tr th {\n",
       "        vertical-align: top;\n",
       "    }\n",
       "\n",
       "    .dataframe thead th {\n",
       "        text-align: right;\n",
       "    }\n",
       "</style>\n",
       "<table border=\"1\" class=\"dataframe\">\n",
       "  <thead>\n",
       "    <tr style=\"text-align: right;\">\n",
       "      <th></th>\n",
       "      <th>Putty</th>\n",
       "    </tr>\n",
       "  </thead>\n",
       "  <tbody>\n",
       "    <tr>\n",
       "      <th>0</th>\n",
       "      <td>x = 600, y = 483</td>\n",
       "    </tr>\n",
       "    <tr>\n",
       "      <th>1</th>\n",
       "      <td>x = 600, y = 439</td>\n",
       "    </tr>\n",
       "    <tr>\n",
       "      <th>2</th>\n",
       "      <td>x = 600, y = 494</td>\n",
       "    </tr>\n",
       "    <tr>\n",
       "      <th>3</th>\n",
       "      <td>x = 250, y = 434</td>\n",
       "    </tr>\n",
       "    <tr>\n",
       "      <th>4</th>\n",
       "      <td>x = 600, y = 569</td>\n",
       "    </tr>\n",
       "    <tr>\n",
       "      <th>5</th>\n",
       "      <td>x = 511, y = 525</td>\n",
       "    </tr>\n",
       "    <tr>\n",
       "      <th>6</th>\n",
       "      <td>x = 601, y = 575</td>\n",
       "    </tr>\n",
       "    <tr>\n",
       "      <th>7</th>\n",
       "      <td>x = 250, y = 376</td>\n",
       "    </tr>\n",
       "  </tbody>\n",
       "</table>\n",
       "</div>"
      ],
      "text/plain": [
       "              Putty\n",
       "0  x = 600, y = 483\n",
       "1  x = 600, y = 439\n",
       "2  x = 600, y = 494\n",
       "3  x = 250, y = 434\n",
       "4  x = 600, y = 569\n",
       "5  x = 511, y = 525\n",
       "6  x = 601, y = 575\n",
       "7  x = 250, y = 376"
      ]
     },
     "execution_count": 108,
     "metadata": {},
     "output_type": "execute_result"
    }
   ],
   "source": [
    "df2 = df2.reset_index(drop = True)\n",
    "df2"
   ]
  },
  {
   "cell_type": "code",
   "execution_count": 109,
   "metadata": {},
   "outputs": [],
   "source": [
    "df3 = df3.reset_index(drop = True)"
   ]
  },
  {
   "cell_type": "code",
   "execution_count": 113,
   "metadata": {},
   "outputs": [
    {
     "data": {
      "text/html": [
       "<div>\n",
       "<style scoped>\n",
       "    .dataframe tbody tr th:only-of-type {\n",
       "        vertical-align: middle;\n",
       "    }\n",
       "\n",
       "    .dataframe tbody tr th {\n",
       "        vertical-align: top;\n",
       "    }\n",
       "\n",
       "    .dataframe thead th {\n",
       "        text-align: right;\n",
       "    }\n",
       "</style>\n",
       "<table border=\"1\" class=\"dataframe\">\n",
       "  <thead>\n",
       "    <tr style=\"text-align: right;\">\n",
       "      <th></th>\n",
       "      <th>Putty</th>\n",
       "      <th>Putty</th>\n",
       "      <th>Putty</th>\n",
       "    </tr>\n",
       "  </thead>\n",
       "  <tbody>\n",
       "    <tr>\n",
       "      <th>0</th>\n",
       "      <td>Trial Number = 1</td>\n",
       "      <td>x = 600, y = 483</td>\n",
       "      <td>Push</td>\n",
       "    </tr>\n",
       "    <tr>\n",
       "      <th>1</th>\n",
       "      <td>Trial Number = 2</td>\n",
       "      <td>x = 600, y = 439</td>\n",
       "      <td>Push</td>\n",
       "    </tr>\n",
       "    <tr>\n",
       "      <th>2</th>\n",
       "      <td>Trial Number = 3</td>\n",
       "      <td>x = 600, y = 494</td>\n",
       "      <td>Push</td>\n",
       "    </tr>\n",
       "    <tr>\n",
       "      <th>3</th>\n",
       "      <td>Trial Number = 4</td>\n",
       "      <td>x = 250, y = 434</td>\n",
       "      <td>Pull</td>\n",
       "    </tr>\n",
       "    <tr>\n",
       "      <th>4</th>\n",
       "      <td>Trial Number = 5</td>\n",
       "      <td>x = 600, y = 569</td>\n",
       "      <td>Push</td>\n",
       "    </tr>\n",
       "    <tr>\n",
       "      <th>5</th>\n",
       "      <td>Trial Number = 6</td>\n",
       "      <td>x = 511, y = 525</td>\n",
       "      <td>Failed</td>\n",
       "    </tr>\n",
       "    <tr>\n",
       "      <th>6</th>\n",
       "      <td>Trial Number = 7</td>\n",
       "      <td>x = 601, y = 575</td>\n",
       "      <td>Push</td>\n",
       "    </tr>\n",
       "    <tr>\n",
       "      <th>7</th>\n",
       "      <td>Trial Number = 8</td>\n",
       "      <td>x = 250, y = 376</td>\n",
       "      <td>Pull</td>\n",
       "    </tr>\n",
       "    <tr>\n",
       "      <th>8</th>\n",
       "      <td>Trial Number = 9</td>\n",
       "      <td>NaN</td>\n",
       "      <td>NaN</td>\n",
       "    </tr>\n",
       "  </tbody>\n",
       "</table>\n",
       "</div>"
      ],
      "text/plain": [
       "               Putty             Putty   Putty\n",
       "0  Trial Number = 1   x = 600, y = 483    Push\n",
       "1  Trial Number = 2   x = 600, y = 439    Push\n",
       "2  Trial Number = 3   x = 600, y = 494    Push\n",
       "3  Trial Number = 4   x = 250, y = 434    Pull\n",
       "4  Trial Number = 5   x = 600, y = 569    Push\n",
       "5  Trial Number = 6   x = 511, y = 525  Failed\n",
       "6  Trial Number = 7   x = 601, y = 575    Push\n",
       "7  Trial Number = 8   x = 250, y = 376    Pull\n",
       "8   Trial Number = 9               NaN     NaN"
      ]
     },
     "execution_count": 113,
     "metadata": {},
     "output_type": "execute_result"
    }
   ],
   "source": [
    "df4 = pd.concat([df1, df2, df3], axis=1)\n",
    "df4"
   ]
  },
  {
   "cell_type": "code",
   "execution_count": 119,
   "metadata": {},
   "outputs": [],
   "source": [
    "df4.columns = ['trial_number', 'coordinates', 'position']"
   ]
  },
  {
   "cell_type": "code",
   "execution_count": 120,
   "metadata": {},
   "outputs": [
    {
     "data": {
      "text/html": [
       "<div>\n",
       "<style scoped>\n",
       "    .dataframe tbody tr th:only-of-type {\n",
       "        vertical-align: middle;\n",
       "    }\n",
       "\n",
       "    .dataframe tbody tr th {\n",
       "        vertical-align: top;\n",
       "    }\n",
       "\n",
       "    .dataframe thead th {\n",
       "        text-align: right;\n",
       "    }\n",
       "</style>\n",
       "<table border=\"1\" class=\"dataframe\">\n",
       "  <thead>\n",
       "    <tr style=\"text-align: right;\">\n",
       "      <th></th>\n",
       "      <th>trial_number</th>\n",
       "      <th>coordinates</th>\n",
       "      <th>position</th>\n",
       "    </tr>\n",
       "  </thead>\n",
       "  <tbody>\n",
       "    <tr>\n",
       "      <th>0</th>\n",
       "      <td>Trial Number = 1</td>\n",
       "      <td>x = 600, y = 483</td>\n",
       "      <td>Push</td>\n",
       "    </tr>\n",
       "    <tr>\n",
       "      <th>1</th>\n",
       "      <td>Trial Number = 2</td>\n",
       "      <td>x = 600, y = 439</td>\n",
       "      <td>Push</td>\n",
       "    </tr>\n",
       "    <tr>\n",
       "      <th>2</th>\n",
       "      <td>Trial Number = 3</td>\n",
       "      <td>x = 600, y = 494</td>\n",
       "      <td>Push</td>\n",
       "    </tr>\n",
       "    <tr>\n",
       "      <th>3</th>\n",
       "      <td>Trial Number = 4</td>\n",
       "      <td>x = 250, y = 434</td>\n",
       "      <td>Pull</td>\n",
       "    </tr>\n",
       "    <tr>\n",
       "      <th>4</th>\n",
       "      <td>Trial Number = 5</td>\n",
       "      <td>x = 600, y = 569</td>\n",
       "      <td>Push</td>\n",
       "    </tr>\n",
       "    <tr>\n",
       "      <th>5</th>\n",
       "      <td>Trial Number = 6</td>\n",
       "      <td>x = 511, y = 525</td>\n",
       "      <td>Failed</td>\n",
       "    </tr>\n",
       "    <tr>\n",
       "      <th>6</th>\n",
       "      <td>Trial Number = 7</td>\n",
       "      <td>x = 601, y = 575</td>\n",
       "      <td>Push</td>\n",
       "    </tr>\n",
       "    <tr>\n",
       "      <th>7</th>\n",
       "      <td>Trial Number = 8</td>\n",
       "      <td>x = 250, y = 376</td>\n",
       "      <td>Pull</td>\n",
       "    </tr>\n",
       "    <tr>\n",
       "      <th>8</th>\n",
       "      <td>Trial Number = 9</td>\n",
       "      <td>NaN</td>\n",
       "      <td>NaN</td>\n",
       "    </tr>\n",
       "  </tbody>\n",
       "</table>\n",
       "</div>"
      ],
      "text/plain": [
       "        trial_number       coordinates position\n",
       "0  Trial Number = 1   x = 600, y = 483     Push\n",
       "1  Trial Number = 2   x = 600, y = 439     Push\n",
       "2  Trial Number = 3   x = 600, y = 494     Push\n",
       "3  Trial Number = 4   x = 250, y = 434     Pull\n",
       "4  Trial Number = 5   x = 600, y = 569     Push\n",
       "5  Trial Number = 6   x = 511, y = 525   Failed\n",
       "6  Trial Number = 7   x = 601, y = 575     Push\n",
       "7  Trial Number = 8   x = 250, y = 376     Pull\n",
       "8   Trial Number = 9               NaN      NaN"
      ]
     },
     "execution_count": 120,
     "metadata": {},
     "output_type": "execute_result"
    }
   ],
   "source": [
    "df4"
   ]
  },
  {
   "cell_type": "code",
   "execution_count": null,
   "metadata": {},
   "outputs": [],
   "source": []
  }
 ],
 "metadata": {
  "kernelspec": {
   "display_name": "base",
   "language": "python",
   "name": "python3"
  },
  "language_info": {
   "codemirror_mode": {
    "name": "ipython",
    "version": 3
   },
   "file_extension": ".py",
   "mimetype": "text/x-python",
   "name": "python",
   "nbconvert_exporter": "python",
   "pygments_lexer": "ipython3",
   "version": "3.9.13"
  },
  "orig_nbformat": 4,
  "vscode": {
   "interpreter": {
    "hash": "4435fd9948f7df9f5670714d1270bf84ef6a4dd2c6b749fb0e56001bdb6a1d23"
   }
  }
 },
 "nbformat": 4,
 "nbformat_minor": 2
}
