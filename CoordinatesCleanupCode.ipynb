{
 "cells": [
  {
   "cell_type": "markdown",
   "source": [
    "# Data Cleanup"
   ],
   "metadata": {
    "collapsed": false
   }
  },
  {
   "cell_type": "code",
   "execution_count": 383,
   "metadata": {
    "collapsed": true,
    "ExecuteTime": {
     "start_time": "2023-05-03T17:57:14.638316Z",
     "end_time": "2023-05-03T17:57:18.293278Z"
    }
   },
   "outputs": [
    {
     "data": {
      "text/plain": "                     0                1\n0         10:23:58.679  Arduino Logging\n1      x = 127 y = 134              NaN\n2         10:23:58.679              NaN\n3      x = 127 y = 134              NaN\n4         10:23:58.692              NaN\n...                ...              ...\n32059  x = 125 y = 133              NaN\n32060     10:28:59.128              NaN\n32061  x = 126 y = 133              NaN\n32062     10:29:02.205              NaN\n32063                x              NaN\n\n[32064 rows x 2 columns]",
      "text/html": "<div>\n<style scoped>\n    .dataframe tbody tr th:only-of-type {\n        vertical-align: middle;\n    }\n\n    .dataframe tbody tr th {\n        vertical-align: top;\n    }\n\n    .dataframe thead th {\n        text-align: right;\n    }\n</style>\n<table border=\"1\" class=\"dataframe\">\n  <thead>\n    <tr style=\"text-align: right;\">\n      <th></th>\n      <th>0</th>\n      <th>1</th>\n    </tr>\n  </thead>\n  <tbody>\n    <tr>\n      <th>0</th>\n      <td>10:23:58.679</td>\n      <td>Arduino Logging</td>\n    </tr>\n    <tr>\n      <th>1</th>\n      <td>x = 127 y = 134</td>\n      <td>NaN</td>\n    </tr>\n    <tr>\n      <th>2</th>\n      <td>10:23:58.679</td>\n      <td>NaN</td>\n    </tr>\n    <tr>\n      <th>3</th>\n      <td>x = 127 y = 134</td>\n      <td>NaN</td>\n    </tr>\n    <tr>\n      <th>4</th>\n      <td>10:23:58.692</td>\n      <td>NaN</td>\n    </tr>\n    <tr>\n      <th>...</th>\n      <td>...</td>\n      <td>...</td>\n    </tr>\n    <tr>\n      <th>32059</th>\n      <td>x = 125 y = 133</td>\n      <td>NaN</td>\n    </tr>\n    <tr>\n      <th>32060</th>\n      <td>10:28:59.128</td>\n      <td>NaN</td>\n    </tr>\n    <tr>\n      <th>32061</th>\n      <td>x = 126 y = 133</td>\n      <td>NaN</td>\n    </tr>\n    <tr>\n      <th>32062</th>\n      <td>10:29:02.205</td>\n      <td>NaN</td>\n    </tr>\n    <tr>\n      <th>32063</th>\n      <td>x</td>\n      <td>NaN</td>\n    </tr>\n  </tbody>\n</table>\n<p>32064 rows × 2 columns</p>\n</div>"
     },
     "execution_count": 383,
     "metadata": {},
     "output_type": "execute_result"
    }
   ],
   "source": [
    "import pandas as pd\n",
    "\n",
    "path = r'/Users/rajharsora/Library/CloudStorage/Box-Box/Oldenburg-Shared/Raj/Behavioral Box Testing/H1.1/4.20.2023/4_20_23_H1.1_Coordinates Log 1.2023_Day2'\n",
    "\n",
    "df = pd.read_csv(path, delimiter='\\t', header=None)\n",
    "df"
   ]
  },
  {
   "cell_type": "code",
   "execution_count": 384,
   "outputs": [
    {
     "data": {
      "text/plain": "                     0\n0         10:23:58.679\n1      x = 127 y = 134\n2         10:23:58.679\n3      x = 127 y = 134\n4         10:23:58.692\n...                ...\n32059  x = 125 y = 133\n32060     10:28:59.128\n32061  x = 126 y = 133\n32062     10:29:02.205\n32063                x\n\n[32064 rows x 1 columns]",
      "text/html": "<div>\n<style scoped>\n    .dataframe tbody tr th:only-of-type {\n        vertical-align: middle;\n    }\n\n    .dataframe tbody tr th {\n        vertical-align: top;\n    }\n\n    .dataframe thead th {\n        text-align: right;\n    }\n</style>\n<table border=\"1\" class=\"dataframe\">\n  <thead>\n    <tr style=\"text-align: right;\">\n      <th></th>\n      <th>0</th>\n    </tr>\n  </thead>\n  <tbody>\n    <tr>\n      <th>0</th>\n      <td>10:23:58.679</td>\n    </tr>\n    <tr>\n      <th>1</th>\n      <td>x = 127 y = 134</td>\n    </tr>\n    <tr>\n      <th>2</th>\n      <td>10:23:58.679</td>\n    </tr>\n    <tr>\n      <th>3</th>\n      <td>x = 127 y = 134</td>\n    </tr>\n    <tr>\n      <th>4</th>\n      <td>10:23:58.692</td>\n    </tr>\n    <tr>\n      <th>...</th>\n      <td>...</td>\n    </tr>\n    <tr>\n      <th>32059</th>\n      <td>x = 125 y = 133</td>\n    </tr>\n    <tr>\n      <th>32060</th>\n      <td>10:28:59.128</td>\n    </tr>\n    <tr>\n      <th>32061</th>\n      <td>x = 126 y = 133</td>\n    </tr>\n    <tr>\n      <th>32062</th>\n      <td>10:29:02.205</td>\n    </tr>\n    <tr>\n      <th>32063</th>\n      <td>x</td>\n    </tr>\n  </tbody>\n</table>\n<p>32064 rows × 1 columns</p>\n</div>"
     },
     "execution_count": 384,
     "metadata": {},
     "output_type": "execute_result"
    }
   ],
   "source": [
    "# Drop column \"1\"\n",
    "df.drop(1, axis=1, inplace=True)\n",
    "df"
   ],
   "metadata": {
    "collapsed": false,
    "ExecuteTime": {
     "start_time": "2023-05-03T17:57:18.299991Z",
     "end_time": "2023-05-03T17:57:18.312983Z"
    }
   }
  },
  {
   "cell_type": "code",
   "execution_count": 385,
   "outputs": [
    {
     "data": {
      "text/plain": "                     0\n1      x = 127 y = 134\n3      x = 127 y = 134\n5      x = 127 y = 134\n7      x = 127 y = 135\n9      x = 127 y = 134\n...                ...\n32055  x = 126 y = 133\n32057  x = 125 y = 133\n32059  x = 125 y = 133\n32061  x = 126 y = 133\n32063                x\n\n[16032 rows x 1 columns]",
      "text/html": "<div>\n<style scoped>\n    .dataframe tbody tr th:only-of-type {\n        vertical-align: middle;\n    }\n\n    .dataframe tbody tr th {\n        vertical-align: top;\n    }\n\n    .dataframe thead th {\n        text-align: right;\n    }\n</style>\n<table border=\"1\" class=\"dataframe\">\n  <thead>\n    <tr style=\"text-align: right;\">\n      <th></th>\n      <th>0</th>\n    </tr>\n  </thead>\n  <tbody>\n    <tr>\n      <th>1</th>\n      <td>x = 127 y = 134</td>\n    </tr>\n    <tr>\n      <th>3</th>\n      <td>x = 127 y = 134</td>\n    </tr>\n    <tr>\n      <th>5</th>\n      <td>x = 127 y = 134</td>\n    </tr>\n    <tr>\n      <th>7</th>\n      <td>x = 127 y = 135</td>\n    </tr>\n    <tr>\n      <th>9</th>\n      <td>x = 127 y = 134</td>\n    </tr>\n    <tr>\n      <th>...</th>\n      <td>...</td>\n    </tr>\n    <tr>\n      <th>32055</th>\n      <td>x = 126 y = 133</td>\n    </tr>\n    <tr>\n      <th>32057</th>\n      <td>x = 125 y = 133</td>\n    </tr>\n    <tr>\n      <th>32059</th>\n      <td>x = 125 y = 133</td>\n    </tr>\n    <tr>\n      <th>32061</th>\n      <td>x = 126 y = 133</td>\n    </tr>\n    <tr>\n      <th>32063</th>\n      <td>x</td>\n    </tr>\n  </tbody>\n</table>\n<p>16032 rows × 1 columns</p>\n</div>"
     },
     "execution_count": 385,
     "metadata": {},
     "output_type": "execute_result"
    }
   ],
   "source": [
    "# Seperate columns based on Timestamp or coodinate\n",
    "Timestamps_df = df.iloc[::2]\n",
    "Timestamps_df\n",
    "Coordinates_df = df.iloc[1::2]\n",
    "Coordinates_df"
   ],
   "metadata": {
    "collapsed": false,
    "ExecuteTime": {
     "start_time": "2023-05-03T17:57:18.363116Z",
     "end_time": "2023-05-03T17:57:18.542857Z"
    }
   }
  },
  {
   "cell_type": "code",
   "execution_count": 386,
   "outputs": [],
   "source": [
    "#Reset the index for both of the new dataframes\n",
    "Timestamps_df = Timestamps_df.reset_index(drop=True)\n",
    "Coordinates_df = Coordinates_df.reset_index(drop=True)\n"
   ],
   "metadata": {
    "collapsed": false,
    "ExecuteTime": {
     "start_time": "2023-05-03T17:57:18.384757Z",
     "end_time": "2023-05-03T17:57:18.543124Z"
    }
   }
  },
  {
   "cell_type": "code",
   "execution_count": 387,
   "outputs": [],
   "source": [
    "#Seperate X and Y coordinates into two different columns\n",
    "\n",
    "Coordinates_df[['X Coordinate', 'Y Coordinate']] = Coordinates_df[0].str.extract(r'^(x = \\d+)\\s(.*)$')"
   ],
   "metadata": {
    "collapsed": false,
    "ExecuteTime": {
     "start_time": "2023-05-03T17:57:18.402176Z",
     "end_time": "2023-05-03T17:57:18.597202Z"
    }
   }
  },
  {
   "cell_type": "code",
   "execution_count": 388,
   "outputs": [
    {
     "data": {
      "text/plain": "                     0 X Coordinate Y Coordinate\n0      x = 127 y = 134      x = 127      y = 134\n1      x = 127 y = 134      x = 127      y = 134\n2      x = 127 y = 134      x = 127      y = 134\n3      x = 127 y = 135      x = 127      y = 135\n4      x = 127 y = 134      x = 127      y = 134\n...                ...          ...          ...\n16027  x = 126 y = 133      x = 126      y = 133\n16028  x = 125 y = 133      x = 125      y = 133\n16029  x = 125 y = 133      x = 125      y = 133\n16030  x = 126 y = 133      x = 126      y = 133\n16031                x          NaN          NaN\n\n[16032 rows x 3 columns]",
      "text/html": "<div>\n<style scoped>\n    .dataframe tbody tr th:only-of-type {\n        vertical-align: middle;\n    }\n\n    .dataframe tbody tr th {\n        vertical-align: top;\n    }\n\n    .dataframe thead th {\n        text-align: right;\n    }\n</style>\n<table border=\"1\" class=\"dataframe\">\n  <thead>\n    <tr style=\"text-align: right;\">\n      <th></th>\n      <th>0</th>\n      <th>X Coordinate</th>\n      <th>Y Coordinate</th>\n    </tr>\n  </thead>\n  <tbody>\n    <tr>\n      <th>0</th>\n      <td>x = 127 y = 134</td>\n      <td>x = 127</td>\n      <td>y = 134</td>\n    </tr>\n    <tr>\n      <th>1</th>\n      <td>x = 127 y = 134</td>\n      <td>x = 127</td>\n      <td>y = 134</td>\n    </tr>\n    <tr>\n      <th>2</th>\n      <td>x = 127 y = 134</td>\n      <td>x = 127</td>\n      <td>y = 134</td>\n    </tr>\n    <tr>\n      <th>3</th>\n      <td>x = 127 y = 135</td>\n      <td>x = 127</td>\n      <td>y = 135</td>\n    </tr>\n    <tr>\n      <th>4</th>\n      <td>x = 127 y = 134</td>\n      <td>x = 127</td>\n      <td>y = 134</td>\n    </tr>\n    <tr>\n      <th>...</th>\n      <td>...</td>\n      <td>...</td>\n      <td>...</td>\n    </tr>\n    <tr>\n      <th>16027</th>\n      <td>x = 126 y = 133</td>\n      <td>x = 126</td>\n      <td>y = 133</td>\n    </tr>\n    <tr>\n      <th>16028</th>\n      <td>x = 125 y = 133</td>\n      <td>x = 125</td>\n      <td>y = 133</td>\n    </tr>\n    <tr>\n      <th>16029</th>\n      <td>x = 125 y = 133</td>\n      <td>x = 125</td>\n      <td>y = 133</td>\n    </tr>\n    <tr>\n      <th>16030</th>\n      <td>x = 126 y = 133</td>\n      <td>x = 126</td>\n      <td>y = 133</td>\n    </tr>\n    <tr>\n      <th>16031</th>\n      <td>x</td>\n      <td>NaN</td>\n      <td>NaN</td>\n    </tr>\n  </tbody>\n</table>\n<p>16032 rows × 3 columns</p>\n</div>"
     },
     "execution_count": 388,
     "metadata": {},
     "output_type": "execute_result"
    }
   ],
   "source": [
    "Coordinates_df"
   ],
   "metadata": {
    "collapsed": false,
    "ExecuteTime": {
     "start_time": "2023-05-03T17:57:18.481603Z",
     "end_time": "2023-05-03T17:57:18.657375Z"
    }
   }
  },
  {
   "cell_type": "code",
   "execution_count": 389,
   "outputs": [],
   "source": [
    "Coordinates_df.dropna(inplace=True)"
   ],
   "metadata": {
    "collapsed": false,
    "ExecuteTime": {
     "start_time": "2023-05-03T17:57:18.510228Z",
     "end_time": "2023-05-03T17:57:18.658734Z"
    }
   }
  },
  {
   "cell_type": "code",
   "execution_count": 390,
   "outputs": [],
   "source": [
    "Coordinates_df['X Coordinate'] = Coordinates_df['X Coordinate'].str.replace('x = ', '').astype(int)\n",
    "\n",
    "Coordinates_df['Y Coordinate'] = Coordinates_df['Y Coordinate'].str.replace('y = ', '').astype(int)"
   ],
   "metadata": {
    "collapsed": false,
    "ExecuteTime": {
     "start_time": "2023-05-03T17:57:18.556163Z",
     "end_time": "2023-05-03T17:57:18.726033Z"
    }
   }
  },
  {
   "cell_type": "code",
   "execution_count": 391,
   "outputs": [],
   "source": [
    "Coordinates_df = Coordinates_df.rename(columns = {0: 'Raw Data'})\n",
    "Timestamps_df = Timestamps_df.rename(columns = {0: 'Timestamp'})"
   ],
   "metadata": {
    "collapsed": false,
    "ExecuteTime": {
     "start_time": "2023-05-03T17:57:18.641231Z",
     "end_time": "2023-05-03T17:57:18.757239Z"
    }
   }
  },
  {
   "cell_type": "code",
   "execution_count": 392,
   "outputs": [
    {
     "data": {
      "text/plain": "          Timestamp\n0      10:23:58.679\n1      10:23:58.679\n2      10:23:58.692\n3      10:23:58.738\n4      10:23:58.738\n...             ...\n16027  10:28:58.870\n16028  10:28:58.888\n16029  10:28:58.907\n16030  10:28:59.128\n16031  10:29:02.205\n\n[16032 rows x 1 columns]",
      "text/html": "<div>\n<style scoped>\n    .dataframe tbody tr th:only-of-type {\n        vertical-align: middle;\n    }\n\n    .dataframe tbody tr th {\n        vertical-align: top;\n    }\n\n    .dataframe thead th {\n        text-align: right;\n    }\n</style>\n<table border=\"1\" class=\"dataframe\">\n  <thead>\n    <tr style=\"text-align: right;\">\n      <th></th>\n      <th>Timestamp</th>\n    </tr>\n  </thead>\n  <tbody>\n    <tr>\n      <th>0</th>\n      <td>10:23:58.679</td>\n    </tr>\n    <tr>\n      <th>1</th>\n      <td>10:23:58.679</td>\n    </tr>\n    <tr>\n      <th>2</th>\n      <td>10:23:58.692</td>\n    </tr>\n    <tr>\n      <th>3</th>\n      <td>10:23:58.738</td>\n    </tr>\n    <tr>\n      <th>4</th>\n      <td>10:23:58.738</td>\n    </tr>\n    <tr>\n      <th>...</th>\n      <td>...</td>\n    </tr>\n    <tr>\n      <th>16027</th>\n      <td>10:28:58.870</td>\n    </tr>\n    <tr>\n      <th>16028</th>\n      <td>10:28:58.888</td>\n    </tr>\n    <tr>\n      <th>16029</th>\n      <td>10:28:58.907</td>\n    </tr>\n    <tr>\n      <th>16030</th>\n      <td>10:28:59.128</td>\n    </tr>\n    <tr>\n      <th>16031</th>\n      <td>10:29:02.205</td>\n    </tr>\n  </tbody>\n</table>\n<p>16032 rows × 1 columns</p>\n</div>"
     },
     "execution_count": 392,
     "metadata": {},
     "output_type": "execute_result"
    }
   ],
   "source": [
    "Timestamps_df"
   ],
   "metadata": {
    "collapsed": false,
    "ExecuteTime": {
     "start_time": "2023-05-03T17:57:18.681763Z",
     "end_time": "2023-05-03T17:57:18.885591Z"
    }
   }
  },
  {
   "cell_type": "markdown",
   "source": [],
   "metadata": {
    "collapsed": false
   }
  },
  {
   "cell_type": "code",
   "execution_count": 393,
   "outputs": [],
   "source": [
    "df_merged = pd.concat([Timestamps_df['Timestamp'], Coordinates_df['Raw Data'], Coordinates_df['X Coordinate'], Coordinates_df['Y Coordinate']], axis=1)"
   ],
   "metadata": {
    "collapsed": false,
    "ExecuteTime": {
     "start_time": "2023-05-03T17:57:18.746593Z",
     "end_time": "2023-05-03T17:57:18.934109Z"
    }
   }
  },
  {
   "cell_type": "code",
   "execution_count": 394,
   "outputs": [
    {
     "data": {
      "text/plain": "          Timestamp         Raw Data  X Coordinate  Y Coordinate\n0      10:23:58.679  x = 127 y = 134         127.0         134.0\n1      10:23:58.679  x = 127 y = 134         127.0         134.0\n2      10:23:58.692  x = 127 y = 134         127.0         134.0\n3      10:23:58.738  x = 127 y = 135         127.0         135.0\n4      10:23:58.738  x = 127 y = 134         127.0         134.0\n...             ...              ...           ...           ...\n16027  10:28:58.870  x = 126 y = 133         126.0         133.0\n16028  10:28:58.888  x = 125 y = 133         125.0         133.0\n16029  10:28:58.907  x = 125 y = 133         125.0         133.0\n16030  10:28:59.128  x = 126 y = 133         126.0         133.0\n16031  10:29:02.205              NaN           NaN           NaN\n\n[16032 rows x 4 columns]",
      "text/html": "<div>\n<style scoped>\n    .dataframe tbody tr th:only-of-type {\n        vertical-align: middle;\n    }\n\n    .dataframe tbody tr th {\n        vertical-align: top;\n    }\n\n    .dataframe thead th {\n        text-align: right;\n    }\n</style>\n<table border=\"1\" class=\"dataframe\">\n  <thead>\n    <tr style=\"text-align: right;\">\n      <th></th>\n      <th>Timestamp</th>\n      <th>Raw Data</th>\n      <th>X Coordinate</th>\n      <th>Y Coordinate</th>\n    </tr>\n  </thead>\n  <tbody>\n    <tr>\n      <th>0</th>\n      <td>10:23:58.679</td>\n      <td>x = 127 y = 134</td>\n      <td>127.0</td>\n      <td>134.0</td>\n    </tr>\n    <tr>\n      <th>1</th>\n      <td>10:23:58.679</td>\n      <td>x = 127 y = 134</td>\n      <td>127.0</td>\n      <td>134.0</td>\n    </tr>\n    <tr>\n      <th>2</th>\n      <td>10:23:58.692</td>\n      <td>x = 127 y = 134</td>\n      <td>127.0</td>\n      <td>134.0</td>\n    </tr>\n    <tr>\n      <th>3</th>\n      <td>10:23:58.738</td>\n      <td>x = 127 y = 135</td>\n      <td>127.0</td>\n      <td>135.0</td>\n    </tr>\n    <tr>\n      <th>4</th>\n      <td>10:23:58.738</td>\n      <td>x = 127 y = 134</td>\n      <td>127.0</td>\n      <td>134.0</td>\n    </tr>\n    <tr>\n      <th>...</th>\n      <td>...</td>\n      <td>...</td>\n      <td>...</td>\n      <td>...</td>\n    </tr>\n    <tr>\n      <th>16027</th>\n      <td>10:28:58.870</td>\n      <td>x = 126 y = 133</td>\n      <td>126.0</td>\n      <td>133.0</td>\n    </tr>\n    <tr>\n      <th>16028</th>\n      <td>10:28:58.888</td>\n      <td>x = 125 y = 133</td>\n      <td>125.0</td>\n      <td>133.0</td>\n    </tr>\n    <tr>\n      <th>16029</th>\n      <td>10:28:58.907</td>\n      <td>x = 125 y = 133</td>\n      <td>125.0</td>\n      <td>133.0</td>\n    </tr>\n    <tr>\n      <th>16030</th>\n      <td>10:28:59.128</td>\n      <td>x = 126 y = 133</td>\n      <td>126.0</td>\n      <td>133.0</td>\n    </tr>\n    <tr>\n      <th>16031</th>\n      <td>10:29:02.205</td>\n      <td>NaN</td>\n      <td>NaN</td>\n      <td>NaN</td>\n    </tr>\n  </tbody>\n</table>\n<p>16032 rows × 4 columns</p>\n</div>"
     },
     "execution_count": 394,
     "metadata": {},
     "output_type": "execute_result"
    }
   ],
   "source": [
    "df_merged"
   ],
   "metadata": {
    "collapsed": false,
    "ExecuteTime": {
     "start_time": "2023-05-03T17:57:18.811264Z",
     "end_time": "2023-05-03T17:57:19.013052Z"
    }
   }
  },
  {
   "cell_type": "code",
   "execution_count": 395,
   "outputs": [],
   "source": [
    "df_merged = df_merged.drop_duplicates(subset=['Timestamp'])"
   ],
   "metadata": {
    "collapsed": false,
    "ExecuteTime": {
     "start_time": "2023-05-03T17:57:18.848706Z",
     "end_time": "2023-05-03T17:57:19.046076Z"
    }
   }
  },
  {
   "cell_type": "code",
   "execution_count": 396,
   "outputs": [
    {
     "data": {
      "text/plain": "          Timestamp         Raw Data  X Coordinate  Y Coordinate\n0      10:23:58.679  x = 127 y = 134         127.0         134.0\n2      10:23:58.692  x = 127 y = 134         127.0         134.0\n3      10:23:58.738  x = 127 y = 135         127.0         135.0\n5      10:23:58.753  x = 128 y = 135         128.0         135.0\n6      10:23:58.790  x = 127 y = 134         127.0         134.0\n...             ...              ...           ...           ...\n16027  10:28:58.870  x = 126 y = 133         126.0         133.0\n16028  10:28:58.888  x = 125 y = 133         125.0         133.0\n16029  10:28:58.907  x = 125 y = 133         125.0         133.0\n16030  10:28:59.128  x = 126 y = 133         126.0         133.0\n16031  10:29:02.205              NaN           NaN           NaN\n\n[13786 rows x 4 columns]",
      "text/html": "<div>\n<style scoped>\n    .dataframe tbody tr th:only-of-type {\n        vertical-align: middle;\n    }\n\n    .dataframe tbody tr th {\n        vertical-align: top;\n    }\n\n    .dataframe thead th {\n        text-align: right;\n    }\n</style>\n<table border=\"1\" class=\"dataframe\">\n  <thead>\n    <tr style=\"text-align: right;\">\n      <th></th>\n      <th>Timestamp</th>\n      <th>Raw Data</th>\n      <th>X Coordinate</th>\n      <th>Y Coordinate</th>\n    </tr>\n  </thead>\n  <tbody>\n    <tr>\n      <th>0</th>\n      <td>10:23:58.679</td>\n      <td>x = 127 y = 134</td>\n      <td>127.0</td>\n      <td>134.0</td>\n    </tr>\n    <tr>\n      <th>2</th>\n      <td>10:23:58.692</td>\n      <td>x = 127 y = 134</td>\n      <td>127.0</td>\n      <td>134.0</td>\n    </tr>\n    <tr>\n      <th>3</th>\n      <td>10:23:58.738</td>\n      <td>x = 127 y = 135</td>\n      <td>127.0</td>\n      <td>135.0</td>\n    </tr>\n    <tr>\n      <th>5</th>\n      <td>10:23:58.753</td>\n      <td>x = 128 y = 135</td>\n      <td>128.0</td>\n      <td>135.0</td>\n    </tr>\n    <tr>\n      <th>6</th>\n      <td>10:23:58.790</td>\n      <td>x = 127 y = 134</td>\n      <td>127.0</td>\n      <td>134.0</td>\n    </tr>\n    <tr>\n      <th>...</th>\n      <td>...</td>\n      <td>...</td>\n      <td>...</td>\n      <td>...</td>\n    </tr>\n    <tr>\n      <th>16027</th>\n      <td>10:28:58.870</td>\n      <td>x = 126 y = 133</td>\n      <td>126.0</td>\n      <td>133.0</td>\n    </tr>\n    <tr>\n      <th>16028</th>\n      <td>10:28:58.888</td>\n      <td>x = 125 y = 133</td>\n      <td>125.0</td>\n      <td>133.0</td>\n    </tr>\n    <tr>\n      <th>16029</th>\n      <td>10:28:58.907</td>\n      <td>x = 125 y = 133</td>\n      <td>125.0</td>\n      <td>133.0</td>\n    </tr>\n    <tr>\n      <th>16030</th>\n      <td>10:28:59.128</td>\n      <td>x = 126 y = 133</td>\n      <td>126.0</td>\n      <td>133.0</td>\n    </tr>\n    <tr>\n      <th>16031</th>\n      <td>10:29:02.205</td>\n      <td>NaN</td>\n      <td>NaN</td>\n      <td>NaN</td>\n    </tr>\n  </tbody>\n</table>\n<p>13786 rows × 4 columns</p>\n</div>"
     },
     "execution_count": 396,
     "metadata": {},
     "output_type": "execute_result"
    }
   ],
   "source": [
    "df_merged"
   ],
   "metadata": {
    "collapsed": false,
    "ExecuteTime": {
     "start_time": "2023-05-03T17:57:18.949578Z",
     "end_time": "2023-05-03T17:57:19.088287Z"
    }
   }
  },
  {
   "cell_type": "code",
   "execution_count": 397,
   "outputs": [],
   "source": [
    "df_merged = df_merged.reset_index(drop=True)"
   ],
   "metadata": {
    "collapsed": false,
    "ExecuteTime": {
     "start_time": "2023-05-03T17:57:18.960312Z",
     "end_time": "2023-05-03T17:57:19.088691Z"
    }
   }
  },
  {
   "cell_type": "code",
   "execution_count": 398,
   "outputs": [
    {
     "data": {
      "text/plain": "          Timestamp         Raw Data  X Coordinate  Y Coordinate\n0      10:23:58.679  x = 127 y = 134         127.0         134.0\n1      10:23:58.692  x = 127 y = 134         127.0         134.0\n2      10:23:58.738  x = 127 y = 135         127.0         135.0\n3      10:23:58.753  x = 128 y = 135         128.0         135.0\n4      10:23:58.790  x = 127 y = 134         127.0         134.0\n...             ...              ...           ...           ...\n13781  10:28:58.870  x = 126 y = 133         126.0         133.0\n13782  10:28:58.888  x = 125 y = 133         125.0         133.0\n13783  10:28:58.907  x = 125 y = 133         125.0         133.0\n13784  10:28:59.128  x = 126 y = 133         126.0         133.0\n13785  10:29:02.205              NaN           NaN           NaN\n\n[13786 rows x 4 columns]",
      "text/html": "<div>\n<style scoped>\n    .dataframe tbody tr th:only-of-type {\n        vertical-align: middle;\n    }\n\n    .dataframe tbody tr th {\n        vertical-align: top;\n    }\n\n    .dataframe thead th {\n        text-align: right;\n    }\n</style>\n<table border=\"1\" class=\"dataframe\">\n  <thead>\n    <tr style=\"text-align: right;\">\n      <th></th>\n      <th>Timestamp</th>\n      <th>Raw Data</th>\n      <th>X Coordinate</th>\n      <th>Y Coordinate</th>\n    </tr>\n  </thead>\n  <tbody>\n    <tr>\n      <th>0</th>\n      <td>10:23:58.679</td>\n      <td>x = 127 y = 134</td>\n      <td>127.0</td>\n      <td>134.0</td>\n    </tr>\n    <tr>\n      <th>1</th>\n      <td>10:23:58.692</td>\n      <td>x = 127 y = 134</td>\n      <td>127.0</td>\n      <td>134.0</td>\n    </tr>\n    <tr>\n      <th>2</th>\n      <td>10:23:58.738</td>\n      <td>x = 127 y = 135</td>\n      <td>127.0</td>\n      <td>135.0</td>\n    </tr>\n    <tr>\n      <th>3</th>\n      <td>10:23:58.753</td>\n      <td>x = 128 y = 135</td>\n      <td>128.0</td>\n      <td>135.0</td>\n    </tr>\n    <tr>\n      <th>4</th>\n      <td>10:23:58.790</td>\n      <td>x = 127 y = 134</td>\n      <td>127.0</td>\n      <td>134.0</td>\n    </tr>\n    <tr>\n      <th>...</th>\n      <td>...</td>\n      <td>...</td>\n      <td>...</td>\n      <td>...</td>\n    </tr>\n    <tr>\n      <th>13781</th>\n      <td>10:28:58.870</td>\n      <td>x = 126 y = 133</td>\n      <td>126.0</td>\n      <td>133.0</td>\n    </tr>\n    <tr>\n      <th>13782</th>\n      <td>10:28:58.888</td>\n      <td>x = 125 y = 133</td>\n      <td>125.0</td>\n      <td>133.0</td>\n    </tr>\n    <tr>\n      <th>13783</th>\n      <td>10:28:58.907</td>\n      <td>x = 125 y = 133</td>\n      <td>125.0</td>\n      <td>133.0</td>\n    </tr>\n    <tr>\n      <th>13784</th>\n      <td>10:28:59.128</td>\n      <td>x = 126 y = 133</td>\n      <td>126.0</td>\n      <td>133.0</td>\n    </tr>\n    <tr>\n      <th>13785</th>\n      <td>10:29:02.205</td>\n      <td>NaN</td>\n      <td>NaN</td>\n      <td>NaN</td>\n    </tr>\n  </tbody>\n</table>\n<p>13786 rows × 4 columns</p>\n</div>"
     },
     "execution_count": 398,
     "metadata": {},
     "output_type": "execute_result"
    }
   ],
   "source": [
    "df_merged"
   ],
   "metadata": {
    "collapsed": false,
    "ExecuteTime": {
     "start_time": "2023-05-03T17:57:18.998001Z",
     "end_time": "2023-05-03T17:57:19.105699Z"
    }
   }
  },
  {
   "cell_type": "code",
   "execution_count": 399,
   "outputs": [
    {
     "data": {
      "text/plain": "             Timestamp         Raw Data  X Coordinate  Y Coordinate\n0      10:23:58.679000  x = 127 y = 134         127.0         134.0\n1      10:23:58.692000  x = 127 y = 134         127.0         134.0\n2      10:23:58.738000  x = 127 y = 135         127.0         135.0\n3      10:23:58.753000  x = 128 y = 135         128.0         135.0\n4      10:23:58.790000  x = 127 y = 134         127.0         134.0\n...                ...              ...           ...           ...\n13781  10:28:58.870000  x = 126 y = 133         126.0         133.0\n13782  10:28:58.888000  x = 125 y = 133         125.0         133.0\n13783  10:28:58.907000  x = 125 y = 133         125.0         133.0\n13784  10:28:59.128000  x = 126 y = 133         126.0         133.0\n13785  10:29:02.205000              NaN           NaN           NaN\n\n[13786 rows x 4 columns]",
      "text/html": "<div>\n<style scoped>\n    .dataframe tbody tr th:only-of-type {\n        vertical-align: middle;\n    }\n\n    .dataframe tbody tr th {\n        vertical-align: top;\n    }\n\n    .dataframe thead th {\n        text-align: right;\n    }\n</style>\n<table border=\"1\" class=\"dataframe\">\n  <thead>\n    <tr style=\"text-align: right;\">\n      <th></th>\n      <th>Timestamp</th>\n      <th>Raw Data</th>\n      <th>X Coordinate</th>\n      <th>Y Coordinate</th>\n    </tr>\n  </thead>\n  <tbody>\n    <tr>\n      <th>0</th>\n      <td>10:23:58.679000</td>\n      <td>x = 127 y = 134</td>\n      <td>127.0</td>\n      <td>134.0</td>\n    </tr>\n    <tr>\n      <th>1</th>\n      <td>10:23:58.692000</td>\n      <td>x = 127 y = 134</td>\n      <td>127.0</td>\n      <td>134.0</td>\n    </tr>\n    <tr>\n      <th>2</th>\n      <td>10:23:58.738000</td>\n      <td>x = 127 y = 135</td>\n      <td>127.0</td>\n      <td>135.0</td>\n    </tr>\n    <tr>\n      <th>3</th>\n      <td>10:23:58.753000</td>\n      <td>x = 128 y = 135</td>\n      <td>128.0</td>\n      <td>135.0</td>\n    </tr>\n    <tr>\n      <th>4</th>\n      <td>10:23:58.790000</td>\n      <td>x = 127 y = 134</td>\n      <td>127.0</td>\n      <td>134.0</td>\n    </tr>\n    <tr>\n      <th>...</th>\n      <td>...</td>\n      <td>...</td>\n      <td>...</td>\n      <td>...</td>\n    </tr>\n    <tr>\n      <th>13781</th>\n      <td>10:28:58.870000</td>\n      <td>x = 126 y = 133</td>\n      <td>126.0</td>\n      <td>133.0</td>\n    </tr>\n    <tr>\n      <th>13782</th>\n      <td>10:28:58.888000</td>\n      <td>x = 125 y = 133</td>\n      <td>125.0</td>\n      <td>133.0</td>\n    </tr>\n    <tr>\n      <th>13783</th>\n      <td>10:28:58.907000</td>\n      <td>x = 125 y = 133</td>\n      <td>125.0</td>\n      <td>133.0</td>\n    </tr>\n    <tr>\n      <th>13784</th>\n      <td>10:28:59.128000</td>\n      <td>x = 126 y = 133</td>\n      <td>126.0</td>\n      <td>133.0</td>\n    </tr>\n    <tr>\n      <th>13785</th>\n      <td>10:29:02.205000</td>\n      <td>NaN</td>\n      <td>NaN</td>\n      <td>NaN</td>\n    </tr>\n  </tbody>\n</table>\n<p>13786 rows × 4 columns</p>\n</div>"
     },
     "execution_count": 399,
     "metadata": {},
     "output_type": "execute_result"
    }
   ],
   "source": [
    "df_merged['Timestamp'] = pd.to_datetime(df_merged['Timestamp']).dt.time\n",
    "df_merged"
   ],
   "metadata": {
    "collapsed": false,
    "ExecuteTime": {
     "start_time": "2023-05-03T17:57:19.095811Z",
     "end_time": "2023-05-03T17:57:20.607061Z"
    }
   }
  },
  {
   "cell_type": "markdown",
   "source": [
    "# Analysis"
   ],
   "metadata": {
    "collapsed": false
   }
  },
  {
   "cell_type": "code",
   "execution_count": 401,
   "outputs": [
    {
     "data": {
      "text/plain": "<AxesSubplot:xlabel='Timestamp'>"
     },
     "execution_count": 401,
     "metadata": {},
     "output_type": "execute_result"
    },
    {
     "data": {
      "text/plain": "<Figure size 640x480 with 1 Axes>",
      "image/png": "[encoded data removed]"
     },
     "metadata": {},
     "output_type": "display_data"
    }
   ],
   "source": [
    "df_merged.plot(x = 'Timestamp', y = 'X Coordinate')\n",
    "# To change the index, set the index after \"df_merged\""
   ],
   "metadata": {
    "collapsed": false,
    "ExecuteTime": {
     "start_time": "2023-05-03T17:57:38.301255Z",
     "end_time": "2023-05-03T17:57:38.599382Z"
    }
   }
  },
  {
   "cell_type": "code",
   "execution_count": null,
   "outputs": [],
   "source": [
    "import matplotlib.pyplot as plt\n",
    "\n",
    "y1 = 123\n",
    "y2 = 130\n",
    "\n",
    "fig,(ax1, ax2) = plt.subplots\n",
    "ax1.fill_between(x, y1)\n",
    "ax1.set_between(x, y1, y2)\n",
    "\n",
    "#Change this to interactive graph"
   ],
   "metadata": {
    "collapsed": false
   }
  },
  {
   "cell_type": "code",
   "execution_count": null,
   "outputs": [],
   "source": [
    "#TODO Put X axis in ms from start of trial to finish of trial\n",
    "# Color Plot over time (Drawnow)\n",
    "#3D plot (Z = time elapsed)"
   ],
   "metadata": {
    "collapsed": false
   }
  }
 ],
 "metadata": {
  "kernelspec": {
   "display_name": "Python 3",
   "language": "python",
   "name": "python3"
  },
  "language_info": {
   "codemirror_mode": {
    "name": "ipython",
    "version": 2
   },
   "file_extension": ".py",
   "mimetype": "text/x-python",
   "name": "python",
   "nbconvert_exporter": "python",
   "pygments_lexer": "ipython2",
   "version": "2.7.6"
  }
 },
 "nbformat": 4,
 "nbformat_minor": 0
}
