{
 "cells": [
  {
   "cell_type": "code",
   "execution_count": 1,
   "metadata": {
    "ExecuteTime": {
     "start_time": "2023-05-01T22:20:30.974372Z",
     "end_time": "2023-05-01T22:20:39.638987Z"
    }
   },
   "outputs": [
    {
     "data": {
      "text/plain": "                      0    1\n0          10:23:58.124  NaN\n1     Trial Number = 1   NaN\n2          10:24:04.265  NaN\n3               5893 ms  NaN\n4          10:24:04.265     \n..                  ...  ...\n188        10:28:45.794  NaN\n189               Pull   NaN\n190        10:28:45.794  NaN\n191  Trial Number = 20   NaN\n192        10:29:06.045  NaN\n\n[193 rows x 2 columns]",
      "text/html": "<div>\n<style scoped>\n    .dataframe tbody tr th:only-of-type {\n        vertical-align: middle;\n    }\n\n    .dataframe tbody tr th {\n        vertical-align: top;\n    }\n\n    .dataframe thead th {\n        text-align: right;\n    }\n</style>\n<table border=\"1\" class=\"dataframe\">\n  <thead>\n    <tr style=\"text-align: right;\">\n      <th></th>\n      <th>0</th>\n      <th>1</th>\n    </tr>\n  </thead>\n  <tbody>\n    <tr>\n      <th>0</th>\n      <td>10:23:58.124</td>\n      <td>NaN</td>\n    </tr>\n    <tr>\n      <th>1</th>\n      <td>Trial Number = 1</td>\n      <td>NaN</td>\n    </tr>\n    <tr>\n      <th>2</th>\n      <td>10:24:04.265</td>\n      <td>NaN</td>\n    </tr>\n    <tr>\n      <th>3</th>\n      <td>5893 ms</td>\n      <td>NaN</td>\n    </tr>\n    <tr>\n      <th>4</th>\n      <td>10:24:04.265</td>\n      <td></td>\n    </tr>\n    <tr>\n      <th>...</th>\n      <td>...</td>\n      <td>...</td>\n    </tr>\n    <tr>\n      <th>188</th>\n      <td>10:28:45.794</td>\n      <td>NaN</td>\n    </tr>\n    <tr>\n      <th>189</th>\n      <td>Pull</td>\n      <td>NaN</td>\n    </tr>\n    <tr>\n      <th>190</th>\n      <td>10:28:45.794</td>\n      <td>NaN</td>\n    </tr>\n    <tr>\n      <th>191</th>\n      <td>Trial Number = 20</td>\n      <td>NaN</td>\n    </tr>\n    <tr>\n      <th>192</th>\n      <td>10:29:06.045</td>\n      <td>NaN</td>\n    </tr>\n  </tbody>\n</table>\n<p>193 rows × 2 columns</p>\n</div>"
     },
     "execution_count": 1,
     "metadata": {},
     "output_type": "execute_result"
    }
   ],
   "source": [
    "import pandas as pd\n",
    "\n",
    "# Path for Windows\n",
    "# path = r'\\Users\\rdh92\\Box\\Oldenburg-Shared\\Raj\\Behavioral Box Testing\\H1.1\\4.20.2023\\4.20.23_H1.1_Trial.Record.1.txt'\n",
    "#Path for Mac\n",
    "path = r'/Users/rajharsora/Library/CloudStorage/Box-Box/Oldenburg-Shared/Raj/Behavioral Box Testing/H1.1/4.20.2023/4.20.23_H1.1_Trial.Record.1.txt'\n",
    "\n",
    "df_TrialLog1 = pd.read_csv(path, delimiter='\\t', header = None)\n",
    "df_TrialLog1\n",
    "\n"
   ]
  },
  {
   "cell_type": "code",
   "execution_count": 2,
   "metadata": {
    "ExecuteTime": {
     "start_time": "2023-05-01T22:20:39.628726Z",
     "end_time": "2023-05-01T22:20:39.657231Z"
    }
   },
   "outputs": [
    {
     "data": {
      "text/plain": "                      0\n0          10:23:58.124\n1     Trial Number = 1 \n2          10:24:04.265\n3               5893 ms\n4          10:24:04.265\n..                  ...\n188        10:28:45.794\n189               Pull \n190        10:28:45.794\n191  Trial Number = 20 \n192        10:29:06.045\n\n[193 rows x 1 columns]",
      "text/html": "<div>\n<style scoped>\n    .dataframe tbody tr th:only-of-type {\n        vertical-align: middle;\n    }\n\n    .dataframe tbody tr th {\n        vertical-align: top;\n    }\n\n    .dataframe thead th {\n        text-align: right;\n    }\n</style>\n<table border=\"1\" class=\"dataframe\">\n  <thead>\n    <tr style=\"text-align: right;\">\n      <th></th>\n      <th>0</th>\n    </tr>\n  </thead>\n  <tbody>\n    <tr>\n      <th>0</th>\n      <td>10:23:58.124</td>\n    </tr>\n    <tr>\n      <th>1</th>\n      <td>Trial Number = 1</td>\n    </tr>\n    <tr>\n      <th>2</th>\n      <td>10:24:04.265</td>\n    </tr>\n    <tr>\n      <th>3</th>\n      <td>5893 ms</td>\n    </tr>\n    <tr>\n      <th>4</th>\n      <td>10:24:04.265</td>\n    </tr>\n    <tr>\n      <th>...</th>\n      <td>...</td>\n    </tr>\n    <tr>\n      <th>188</th>\n      <td>10:28:45.794</td>\n    </tr>\n    <tr>\n      <th>189</th>\n      <td>Pull</td>\n    </tr>\n    <tr>\n      <th>190</th>\n      <td>10:28:45.794</td>\n    </tr>\n    <tr>\n      <th>191</th>\n      <td>Trial Number = 20</td>\n    </tr>\n    <tr>\n      <th>192</th>\n      <td>10:29:06.045</td>\n    </tr>\n  </tbody>\n</table>\n<p>193 rows × 1 columns</p>\n</div>"
     },
     "execution_count": 2,
     "metadata": {},
     "output_type": "execute_result"
    }
   ],
   "source": [
    "df_TrialLog1.drop(1, axis=1, inplace=True)\n",
    "df_TrialLog1"
   ]
  },
  {
   "cell_type": "code",
   "execution_count": 3,
   "metadata": {
    "ExecuteTime": {
     "start_time": "2023-05-01T22:20:39.655420Z",
     "end_time": "2023-05-01T22:20:39.657581Z"
    }
   },
   "outputs": [],
   "source": [
    "Timestamps_df = df_TrialLog1[::2]\n",
    "No_Timestamps_df = df_TrialLog1.iloc[1::2]"
   ]
  },
  {
   "cell_type": "code",
   "execution_count": 4,
   "metadata": {
    "ExecuteTime": {
     "start_time": "2023-05-01T22:20:39.656229Z",
     "end_time": "2023-05-01T22:20:39.657766Z"
    }
   },
   "outputs": [],
   "source": [
    "Timestamps_df = Timestamps_df.reset_index(drop=True)\n",
    "No_Timestamps_df =  No_Timestamps_df.reset_index(drop=True)"
   ]
  },
  {
   "cell_type": "code",
   "execution_count": 5,
   "metadata": {
    "ExecuteTime": {
     "start_time": "2023-05-01T22:20:39.659353Z",
     "end_time": "2023-05-01T22:20:39.689589Z"
    }
   },
   "outputs": [],
   "source": [
    "Timestamps_df.columns = ['Timestamps']\n",
    "No_Timestamps_df.columns = ['Trials']"
   ]
  },
  {
   "cell_type": "code",
   "execution_count": 6,
   "metadata": {
    "ExecuteTime": {
     "start_time": "2023-05-01T22:20:39.678969Z",
     "end_time": "2023-05-01T22:20:39.873161Z"
    }
   },
   "outputs": [
    {
     "data": {
      "text/plain": "      Timestamps                    Trials\n0   10:23:58.124         Trial Number = 1 \n1   10:24:04.265                   5893 ms\n2   10:24:04.265           x = 136 y = 136\n3   10:24:04.309   Total F/R Ratio = 1 / 0\n4   10:24:04.309                     Push \n..           ...                       ...\n92  10:28:45.732           x = 120 y = 133\n93  10:28:45.794  Total F/R Ratio = 15 / 4\n94  10:28:45.794                     Pull \n95  10:28:45.794        Trial Number = 20 \n96  10:29:06.045                       NaN\n\n[97 rows x 2 columns]",
      "text/html": "<div>\n<style scoped>\n    .dataframe tbody tr th:only-of-type {\n        vertical-align: middle;\n    }\n\n    .dataframe tbody tr th {\n        vertical-align: top;\n    }\n\n    .dataframe thead th {\n        text-align: right;\n    }\n</style>\n<table border=\"1\" class=\"dataframe\">\n  <thead>\n    <tr style=\"text-align: right;\">\n      <th></th>\n      <th>Timestamps</th>\n      <th>Trials</th>\n    </tr>\n  </thead>\n  <tbody>\n    <tr>\n      <th>0</th>\n      <td>10:23:58.124</td>\n      <td>Trial Number = 1</td>\n    </tr>\n    <tr>\n      <th>1</th>\n      <td>10:24:04.265</td>\n      <td>5893 ms</td>\n    </tr>\n    <tr>\n      <th>2</th>\n      <td>10:24:04.265</td>\n      <td>x = 136 y = 136</td>\n    </tr>\n    <tr>\n      <th>3</th>\n      <td>10:24:04.309</td>\n      <td>Total F/R Ratio = 1 / 0</td>\n    </tr>\n    <tr>\n      <th>4</th>\n      <td>10:24:04.309</td>\n      <td>Push</td>\n    </tr>\n    <tr>\n      <th>...</th>\n      <td>...</td>\n      <td>...</td>\n    </tr>\n    <tr>\n      <th>92</th>\n      <td>10:28:45.732</td>\n      <td>x = 120 y = 133</td>\n    </tr>\n    <tr>\n      <th>93</th>\n      <td>10:28:45.794</td>\n      <td>Total F/R Ratio = 15 / 4</td>\n    </tr>\n    <tr>\n      <th>94</th>\n      <td>10:28:45.794</td>\n      <td>Pull</td>\n    </tr>\n    <tr>\n      <th>95</th>\n      <td>10:28:45.794</td>\n      <td>Trial Number = 20</td>\n    </tr>\n    <tr>\n      <th>96</th>\n      <td>10:29:06.045</td>\n      <td>NaN</td>\n    </tr>\n  </tbody>\n</table>\n<p>97 rows × 2 columns</p>\n</div>"
     },
     "execution_count": 6,
     "metadata": {},
     "output_type": "execute_result"
    }
   ],
   "source": [
    "df_merged = pd.concat([Timestamps_df['Timestamps'], No_Timestamps_df['Trials']], axis=1)\n",
    "df_merged"
   ]
  },
  {
   "cell_type": "code",
   "execution_count": 7,
   "metadata": {
    "ExecuteTime": {
     "start_time": "2023-05-01T22:20:39.696735Z",
     "end_time": "2023-05-01T22:20:39.899973Z"
    }
   },
   "outputs": [],
   "source": [
    "df_merged['Trial_Number'] = df_merged['Trials'].iloc[::5]"
   ]
  },
  {
   "cell_type": "code",
   "execution_count": 8,
   "metadata": {
    "ExecuteTime": {
     "start_time": "2023-05-01T22:20:39.721623Z",
     "end_time": "2023-05-01T22:20:39.923943Z"
    }
   },
   "outputs": [],
   "source": [
    "df_merged['Reaction_Time'] = df_merged['Trials'].iloc[1::5]"
   ]
  },
  {
   "cell_type": "code",
   "execution_count": 9,
   "metadata": {
    "ExecuteTime": {
     "start_time": "2023-05-01T22:20:39.737927Z",
     "end_time": "2023-05-01T22:20:39.958502Z"
    }
   },
   "outputs": [
    {
     "data": {
      "text/plain": "2     x = 136 y = 136\n7     x = 136 y = 138\n12    x = 135 y = 140\n17    x = 135 y = 139\n22    x = 135 y = 138\n27    x = 135 y = 138\n32    x = 109 y = 138\n37    x = 176 y = 137\n42    x = 167 y = 132\n47    x = 135 y = 134\n52    x = 135 y = 137\n57    x = 136 y = 138\n62    x = 135 y = 138\n67    x = 120 y = 128\n72    x = 120 y = 138\n77    x = 136 y = 137\n82    x = 135 y = 135\n87    x = 136 y = 136\n92    x = 120 y = 133\nName: Trials, dtype: object"
     },
     "execution_count": 9,
     "metadata": {},
     "output_type": "execute_result"
    }
   ],
   "source": [
    "df_merged['Trials'].iloc[2::5]"
   ]
  },
  {
   "cell_type": "code",
   "execution_count": 9,
   "metadata": {
    "ExecuteTime": {
     "start_time": "2023-05-01T22:20:39.761427Z",
     "end_time": "2023-05-01T22:20:39.974380Z"
    }
   },
   "outputs": [],
   "source": []
  }
 ],
 "metadata": {
  "kernelspec": {
   "display_name": "base",
   "language": "python",
   "name": "python3"
  },
  "language_info": {
   "codemirror_mode": {
    "name": "ipython",
    "version": 3
   },
   "file_extension": ".py",
   "mimetype": "text/x-python",
   "name": "python",
   "nbconvert_exporter": "python",
   "pygments_lexer": "ipython3",
   "version": "3.9.13"
  },
  "orig_nbformat": 4
 },
 "nbformat": 4,
 "nbformat_minor": 2
}
